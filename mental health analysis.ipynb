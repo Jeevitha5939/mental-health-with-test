{
 "cells": [
  {
   "cell_type": "markdown",
   "id": "863aa004",
   "metadata": {},
   "source": [
    "# 1. Introduction\n"
   ]
  },
  {
   "cell_type": "markdown",
   "id": "332578c1",
   "metadata": {},
   "source": [
    "- Work often constitutes a significant portion of our lives, where we not only earn a living but also form connections. A fulfilling job can positively impact **mental health** and **overall well-being**.\n",
    "\n",
    "- Mental health is integral to our overall well-being, shaping our thoughts, emotions, and behaviors in our daily lives. Its importance in the tech workspace is paramount, influencing our fundamental sense of wellness.\n",
    "\n",
    "- Good mental health brings about a multitude of benefits, positively impacting various aspects of an individual's life. Some of the key advantages include:\n",
    "\n",
    "    - **Enhanced Emotional Well-being.**\n",
    "    - **Improved Relationships.**\n",
    "\n",
    "    - **Increased Resilience.** \n",
    "\n",
    "    - **Higher Productivity and Performance.** \n",
    "\n",
    "    - **Better Physical Health.** "
   ]
  },
  {
   "cell_type": "markdown",
   "id": "de6c8745",
   "metadata": {},
   "source": [
    "# 2. Problem Statement"
   ]
  },
  {
   "cell_type": "markdown",
   "id": "742952cf",
   "metadata": {},
   "source": [
    "- Daily life involves natural fluctuations, influenced by various factors. However, when the ratio of these fluctuations becomes imbalanced, it can lead to mental and physical burnout, disrupting life's equilibrium and potentially resulting in **Anxiety** & **Depression**.\n",
    "- We are trying to analyse what influences most for the mental health issues people face in a Tech workspace with the help of the data collected by OSMI."
   ]
  },
  {
   "cell_type": "markdown",
   "id": "fbb57d94",
   "metadata": {},
   "source": [
    "<h4>Scenario:</h4>\n",
    "\n",
    "<a href=\"https://osmihelp.org/\">**OSMI**</a>, **Open Sourcing Mental Illness** is a non-profit organization focused on changing how mental health is addressed in the tech community. Founded by **Ed Finkler**, a developer and advocate for mental health awareness\n",
    "\n",
    "- OSMI aims to raise awareness, provide support, and create an open dialogue about mental health issues in the tech industry.\n",
    "\n",
    "- They perform surveys to **measure attitudes** towards mental health in the tech workplace.\n",
    "\n",
    "- OSMI encourages open conversations and provides educational materials to help employers and employees better understand and manage mental health issues in the workplace."
   ]
  },
  {
   "cell_type": "markdown",
   "id": "7e14b2eb",
   "metadata": {},
   "source": [
    "# 3. Importing Libraries"
   ]
  },
  {
   "cell_type": "code",
   "execution_count": 222,
   "id": "6d954ddf",
   "metadata": {},
   "outputs": [],
   "source": [
    "import numpy as np\n",
    "import pandas as pd\n",
    "import seaborn as sns\n",
    "import matplotlib.pyplot as plt\n",
    "#import plotly.graph_objs as go  \n",
    "#import plotly.express as px\n",
    "import warnings \n",
    "warnings.filterwarnings(\"ignore\") "
   ]
  },
  {
   "cell_type": "code",
   "execution_count": 223,
   "id": "61e2dfb3",
   "metadata": {},
   "outputs": [],
   "source": [
    "pd.set_option('display.float_format', lambda x : '%.2f' %x)"
   ]
  },
  {
   "cell_type": "markdown",
   "id": "1f05d67d",
   "metadata": {},
   "source": [
    "# 4. Data Acquisition"
   ]
  },
  {
   "cell_type": "markdown",
   "id": "bea5a1c4",
   "metadata": {},
   "source": [
    "- This dataset is obtained from a survey in 2014.\n",
    "\n",
    "- It describes the attitudes towards mental health and frequency of mental health disorders in the tech workplace.\n",
    "\n",
    "| Records | Features | Dataset Size |\n",
    "| :-- | :-- | :-- |\n",
    "| 1259 | 27 | 296 KB| \n",
    "\n",
    "| Id | Features | Description |\n",
    "| :-- | :--| :--| \n",
    "|01|**Timestamp**|Time the survey was submitted.|\n",
    "|02|**Age**|The age of the person.| \n",
    "|03|**Gender**|The gender of the person.|\n",
    "|04|**Country**|The country name where person belongs to.|\n",
    "|05|**state**|The state name where person belongs to.|\n",
    "|06|**self_employed**|Is the person self employed or not.|\n",
    "|07|**family_history**|Does the person's family history had mental illness or not?|\n",
    "|08|**treatment**|Have you sought treatment for a mental health condition?|\n",
    "|09|**work_intefere**|If you have a mental health condition, do you feel that it interferes with your work?|\n",
    "|10|**no_employees**|How many employees does your company or organization have?|\n",
    "|11|**remote_work**|Do you work remotely (outside of an office) at least 50% of the time?|\n",
    "|12|**tech_company**|Is your employer primarily a tech company/organization?|\n",
    "|13|**benifits**|Does your employer provide mental health benefits?|\n",
    "|14|**care_options**|Do you know the options for mental health care your employer provides?|\n",
    "|15|**wellness_program**|Has your employer ever discussed mental health as part of an employee wellness program?|\n",
    "|16|**seek_help**|Does your employer provide resources to learn more about mental health issues and how to seek help?|\n",
    "|17|**anonymity**|Is your anonymity protected if you choose to take advantage of mental health or substance abuse treatment resources?|\n",
    "|18|**leave**|How easy is it for you to take medical leave for a mental health condition?|\n",
    "|19|**mental_health_consequence**|Do you think that discussing a mental health issue with your employer would have negative consequences?|\n",
    "|20|**phy_health_consequence**|Do you think that discussing a physical health issue with your employer would have negative consequences?|\n",
    "|21|**coworkers**|Would you be willing to discuss a mental health issue with your coworkers?|\n",
    "|22|**supervisor**|Would you be willing to discuss a mental health issue with your direct supervisor(s)?|\n",
    "|23|**mental_health_interview**|Would you bring up a mental health issue with a potential employer in an interview?|\n",
    "|24|**phs_health_interivew**|Would you bring up a physical health issue with a potential employer in an interview?|\n",
    "|25|**mental_vs_physical**|Do you feel that your employer takes mental health as seriously as physical health?|\n",
    "|26|**obs_consequence**|Have you heard of or observed negative consequences for coworkers with mental health conditions in your workplace?|\n",
    "|27|**comments**|Any additional notes or comments.|"
   ]
  },
  {
   "cell_type": "code",
   "execution_count": 224,
   "id": "3ae5c7b2",
   "metadata": {},
   "outputs": [],
   "source": [
    "data = pd.read_csv(\"C://Users//VENKAT//Downloads//survey.csv\")"
   ]
  },
  {
   "cell_type": "code",
   "execution_count": 225,
   "id": "ffb6da94",
   "metadata": {},
   "outputs": [
    {
     "data": {
      "text/html": [
       "<div>\n",
       "<style scoped>\n",
       "    .dataframe tbody tr th:only-of-type {\n",
       "        vertical-align: middle;\n",
       "    }\n",
       "\n",
       "    .dataframe tbody tr th {\n",
       "        vertical-align: top;\n",
       "    }\n",
       "\n",
       "    .dataframe thead th {\n",
       "        text-align: right;\n",
       "    }\n",
       "</style>\n",
       "<table border=\"1\" class=\"dataframe\">\n",
       "  <thead>\n",
       "    <tr style=\"text-align: right;\">\n",
       "      <th></th>\n",
       "      <th>Timestamp</th>\n",
       "      <th>Age</th>\n",
       "      <th>Gender</th>\n",
       "      <th>Country</th>\n",
       "      <th>state</th>\n",
       "      <th>self_employed</th>\n",
       "      <th>family_history</th>\n",
       "      <th>treatment</th>\n",
       "      <th>work_interfere</th>\n",
       "      <th>no_employees</th>\n",
       "      <th>...</th>\n",
       "      <th>leave</th>\n",
       "      <th>mental_health_consequence</th>\n",
       "      <th>phys_health_consequence</th>\n",
       "      <th>coworkers</th>\n",
       "      <th>supervisor</th>\n",
       "      <th>mental_health_interview</th>\n",
       "      <th>phys_health_interview</th>\n",
       "      <th>mental_vs_physical</th>\n",
       "      <th>obs_consequence</th>\n",
       "      <th>comments</th>\n",
       "    </tr>\n",
       "  </thead>\n",
       "  <tbody>\n",
       "    <tr>\n",
       "      <th>0</th>\n",
       "      <td>2014-08-27 11:29:31</td>\n",
       "      <td>37</td>\n",
       "      <td>Female</td>\n",
       "      <td>United States</td>\n",
       "      <td>IL</td>\n",
       "      <td>NaN</td>\n",
       "      <td>No</td>\n",
       "      <td>Yes</td>\n",
       "      <td>Often</td>\n",
       "      <td>6-25</td>\n",
       "      <td>...</td>\n",
       "      <td>Somewhat easy</td>\n",
       "      <td>No</td>\n",
       "      <td>No</td>\n",
       "      <td>Some of them</td>\n",
       "      <td>Yes</td>\n",
       "      <td>No</td>\n",
       "      <td>Maybe</td>\n",
       "      <td>Yes</td>\n",
       "      <td>No</td>\n",
       "      <td>NaN</td>\n",
       "    </tr>\n",
       "    <tr>\n",
       "      <th>1</th>\n",
       "      <td>2014-08-27 11:29:37</td>\n",
       "      <td>44</td>\n",
       "      <td>M</td>\n",
       "      <td>United States</td>\n",
       "      <td>IN</td>\n",
       "      <td>NaN</td>\n",
       "      <td>No</td>\n",
       "      <td>No</td>\n",
       "      <td>Rarely</td>\n",
       "      <td>More than 1000</td>\n",
       "      <td>...</td>\n",
       "      <td>Don't know</td>\n",
       "      <td>Maybe</td>\n",
       "      <td>No</td>\n",
       "      <td>No</td>\n",
       "      <td>No</td>\n",
       "      <td>No</td>\n",
       "      <td>No</td>\n",
       "      <td>Don't know</td>\n",
       "      <td>No</td>\n",
       "      <td>NaN</td>\n",
       "    </tr>\n",
       "    <tr>\n",
       "      <th>2</th>\n",
       "      <td>2014-08-27 11:29:44</td>\n",
       "      <td>32</td>\n",
       "      <td>Male</td>\n",
       "      <td>Canada</td>\n",
       "      <td>NaN</td>\n",
       "      <td>NaN</td>\n",
       "      <td>No</td>\n",
       "      <td>No</td>\n",
       "      <td>Rarely</td>\n",
       "      <td>6-25</td>\n",
       "      <td>...</td>\n",
       "      <td>Somewhat difficult</td>\n",
       "      <td>No</td>\n",
       "      <td>No</td>\n",
       "      <td>Yes</td>\n",
       "      <td>Yes</td>\n",
       "      <td>Yes</td>\n",
       "      <td>Yes</td>\n",
       "      <td>No</td>\n",
       "      <td>No</td>\n",
       "      <td>NaN</td>\n",
       "    </tr>\n",
       "    <tr>\n",
       "      <th>3</th>\n",
       "      <td>2014-08-27 11:29:46</td>\n",
       "      <td>31</td>\n",
       "      <td>Male</td>\n",
       "      <td>United Kingdom</td>\n",
       "      <td>NaN</td>\n",
       "      <td>NaN</td>\n",
       "      <td>Yes</td>\n",
       "      <td>Yes</td>\n",
       "      <td>Often</td>\n",
       "      <td>26-100</td>\n",
       "      <td>...</td>\n",
       "      <td>Somewhat difficult</td>\n",
       "      <td>Yes</td>\n",
       "      <td>Yes</td>\n",
       "      <td>Some of them</td>\n",
       "      <td>No</td>\n",
       "      <td>Maybe</td>\n",
       "      <td>Maybe</td>\n",
       "      <td>No</td>\n",
       "      <td>Yes</td>\n",
       "      <td>NaN</td>\n",
       "    </tr>\n",
       "    <tr>\n",
       "      <th>4</th>\n",
       "      <td>2014-08-27 11:30:22</td>\n",
       "      <td>31</td>\n",
       "      <td>Male</td>\n",
       "      <td>United States</td>\n",
       "      <td>TX</td>\n",
       "      <td>NaN</td>\n",
       "      <td>No</td>\n",
       "      <td>No</td>\n",
       "      <td>Never</td>\n",
       "      <td>100-500</td>\n",
       "      <td>...</td>\n",
       "      <td>Don't know</td>\n",
       "      <td>No</td>\n",
       "      <td>No</td>\n",
       "      <td>Some of them</td>\n",
       "      <td>Yes</td>\n",
       "      <td>Yes</td>\n",
       "      <td>Yes</td>\n",
       "      <td>Don't know</td>\n",
       "      <td>No</td>\n",
       "      <td>NaN</td>\n",
       "    </tr>\n",
       "  </tbody>\n",
       "</table>\n",
       "<p>5 rows × 27 columns</p>\n",
       "</div>"
      ],
      "text/plain": [
       "             Timestamp  Age  Gender         Country state self_employed  \\\n",
       "0  2014-08-27 11:29:31   37  Female   United States    IL           NaN   \n",
       "1  2014-08-27 11:29:37   44       M   United States    IN           NaN   \n",
       "2  2014-08-27 11:29:44   32    Male          Canada   NaN           NaN   \n",
       "3  2014-08-27 11:29:46   31    Male  United Kingdom   NaN           NaN   \n",
       "4  2014-08-27 11:30:22   31    Male   United States    TX           NaN   \n",
       "\n",
       "  family_history treatment work_interfere    no_employees  ...  \\\n",
       "0             No       Yes          Often            6-25  ...   \n",
       "1             No        No         Rarely  More than 1000  ...   \n",
       "2             No        No         Rarely            6-25  ...   \n",
       "3            Yes       Yes          Often          26-100  ...   \n",
       "4             No        No          Never         100-500  ...   \n",
       "\n",
       "                leave mental_health_consequence phys_health_consequence  \\\n",
       "0       Somewhat easy                        No                      No   \n",
       "1          Don't know                     Maybe                      No   \n",
       "2  Somewhat difficult                        No                      No   \n",
       "3  Somewhat difficult                       Yes                     Yes   \n",
       "4          Don't know                        No                      No   \n",
       "\n",
       "      coworkers supervisor mental_health_interview phys_health_interview  \\\n",
       "0  Some of them        Yes                      No                 Maybe   \n",
       "1            No         No                      No                    No   \n",
       "2           Yes        Yes                     Yes                   Yes   \n",
       "3  Some of them         No                   Maybe                 Maybe   \n",
       "4  Some of them        Yes                     Yes                   Yes   \n",
       "\n",
       "  mental_vs_physical obs_consequence comments  \n",
       "0                Yes              No      NaN  \n",
       "1         Don't know              No      NaN  \n",
       "2                 No              No      NaN  \n",
       "3                 No             Yes      NaN  \n",
       "4         Don't know              No      NaN  \n",
       "\n",
       "[5 rows x 27 columns]"
      ]
     },
     "execution_count": 225,
     "metadata": {},
     "output_type": "execute_result"
    }
   ],
   "source": [
    "data.head()"
   ]
  },
  {
   "cell_type": "code",
   "execution_count": 226,
   "id": "aedbe22f",
   "metadata": {},
   "outputs": [
    {
     "data": {
      "text/plain": [
       "(1259, 27)"
      ]
     },
     "execution_count": 226,
     "metadata": {},
     "output_type": "execute_result"
    }
   ],
   "source": [
    "data.shape"
   ]
  },
  {
   "cell_type": "markdown",
   "id": "9bcaaece",
   "metadata": {},
   "source": [
    "- We have a total of **1259** rows & **27** columns in the dataset."
   ]
  },
  {
   "cell_type": "code",
   "execution_count": 227,
   "id": "b92eb5b5",
   "metadata": {},
   "outputs": [
    {
     "name": "stdout",
     "output_type": "stream",
     "text": [
      "<class 'pandas.core.frame.DataFrame'>\n",
      "RangeIndex: 1259 entries, 0 to 1258\n",
      "Data columns (total 27 columns):\n",
      " #   Column                     Non-Null Count  Dtype \n",
      "---  ------                     --------------  ----- \n",
      " 0   Timestamp                  1259 non-null   object\n",
      " 1   Age                        1259 non-null   int64 \n",
      " 2   Gender                     1259 non-null   object\n",
      " 3   Country                    1259 non-null   object\n",
      " 4   state                      744 non-null    object\n",
      " 5   self_employed              1241 non-null   object\n",
      " 6   family_history             1259 non-null   object\n",
      " 7   treatment                  1259 non-null   object\n",
      " 8   work_interfere             995 non-null    object\n",
      " 9   no_employees               1259 non-null   object\n",
      " 10  remote_work                1259 non-null   object\n",
      " 11  tech_company               1259 non-null   object\n",
      " 12  benefits                   1259 non-null   object\n",
      " 13  care_options               1259 non-null   object\n",
      " 14  wellness_program           1259 non-null   object\n",
      " 15  seek_help                  1259 non-null   object\n",
      " 16  anonymity                  1259 non-null   object\n",
      " 17  leave                      1259 non-null   object\n",
      " 18  mental_health_consequence  1259 non-null   object\n",
      " 19  phys_health_consequence    1259 non-null   object\n",
      " 20  coworkers                  1259 non-null   object\n",
      " 21  supervisor                 1259 non-null   object\n",
      " 22  mental_health_interview    1259 non-null   object\n",
      " 23  phys_health_interview      1259 non-null   object\n",
      " 24  mental_vs_physical         1259 non-null   object\n",
      " 25  obs_consequence            1259 non-null   object\n",
      " 26  comments                   164 non-null    object\n",
      "dtypes: int64(1), object(26)\n",
      "memory usage: 265.7+ KB\n"
     ]
    }
   ],
   "source": [
    "data.info()"
   ]
  },
  {
   "cell_type": "markdown",
   "id": "88679e32",
   "metadata": {},
   "source": [
    "# 5. Data Pre Profiling"
   ]
  },
  {
   "cell_type": "code",
   "execution_count": 228,
   "id": "f3210b38",
   "metadata": {},
   "outputs": [
    {
     "data": {
      "text/html": [
       "<div>\n",
       "<style scoped>\n",
       "    .dataframe tbody tr th:only-of-type {\n",
       "        vertical-align: middle;\n",
       "    }\n",
       "\n",
       "    .dataframe tbody tr th {\n",
       "        vertical-align: top;\n",
       "    }\n",
       "\n",
       "    .dataframe thead th {\n",
       "        text-align: right;\n",
       "    }\n",
       "</style>\n",
       "<table border=\"1\" class=\"dataframe\">\n",
       "  <thead>\n",
       "    <tr style=\"text-align: right;\">\n",
       "      <th></th>\n",
       "      <th>Age</th>\n",
       "    </tr>\n",
       "  </thead>\n",
       "  <tbody>\n",
       "    <tr>\n",
       "      <th>count</th>\n",
       "      <td>1259.00</td>\n",
       "    </tr>\n",
       "    <tr>\n",
       "      <th>mean</th>\n",
       "      <td>79428148.31</td>\n",
       "    </tr>\n",
       "    <tr>\n",
       "      <th>std</th>\n",
       "      <td>2818299442.98</td>\n",
       "    </tr>\n",
       "    <tr>\n",
       "      <th>min</th>\n",
       "      <td>-1726.00</td>\n",
       "    </tr>\n",
       "    <tr>\n",
       "      <th>25%</th>\n",
       "      <td>27.00</td>\n",
       "    </tr>\n",
       "    <tr>\n",
       "      <th>50%</th>\n",
       "      <td>31.00</td>\n",
       "    </tr>\n",
       "    <tr>\n",
       "      <th>75%</th>\n",
       "      <td>36.00</td>\n",
       "    </tr>\n",
       "    <tr>\n",
       "      <th>max</th>\n",
       "      <td>99999999999.00</td>\n",
       "    </tr>\n",
       "  </tbody>\n",
       "</table>\n",
       "</div>"
      ],
      "text/plain": [
       "                 Age\n",
       "count        1259.00\n",
       "mean     79428148.31\n",
       "std    2818299442.98\n",
       "min         -1726.00\n",
       "25%            27.00\n",
       "50%            31.00\n",
       "75%            36.00\n",
       "max   99999999999.00"
      ]
     },
     "execution_count": 228,
     "metadata": {},
     "output_type": "execute_result"
    }
   ],
   "source": [
    "data.describe()\n"
   ]
  },
  {
   "cell_type": "markdown",
   "id": "a92a22f3",
   "metadata": {},
   "source": [
    "**Incorrect values in Age:**\n",
    "   - Max Age of a person cannot be **99999999999.00**.\n",
    "   - And also No person would have an age of neagtive **-1726**."
   ]
  },
  {
   "cell_type": "markdown",
   "id": "ce2b7dc1",
   "metadata": {},
   "source": [
    "- Since most countries designate **18 years** as the legal age to commence work, let's examine the Age field for any records below this threshold."
   ]
  },
  {
   "cell_type": "code",
   "execution_count": 229,
   "id": "bca19284",
   "metadata": {},
   "outputs": [
    {
     "data": {
      "text/html": [
       "<div>\n",
       "<style scoped>\n",
       "    .dataframe tbody tr th:only-of-type {\n",
       "        vertical-align: middle;\n",
       "    }\n",
       "\n",
       "    .dataframe tbody tr th {\n",
       "        vertical-align: top;\n",
       "    }\n",
       "\n",
       "    .dataframe thead th {\n",
       "        text-align: right;\n",
       "    }\n",
       "</style>\n",
       "<table border=\"1\" class=\"dataframe\">\n",
       "  <thead>\n",
       "    <tr style=\"text-align: right;\">\n",
       "      <th></th>\n",
       "      <th>Timestamp</th>\n",
       "      <th>Age</th>\n",
       "      <th>Gender</th>\n",
       "      <th>Country</th>\n",
       "      <th>state</th>\n",
       "      <th>self_employed</th>\n",
       "      <th>family_history</th>\n",
       "      <th>treatment</th>\n",
       "      <th>work_interfere</th>\n",
       "      <th>no_employees</th>\n",
       "      <th>...</th>\n",
       "      <th>leave</th>\n",
       "      <th>mental_health_consequence</th>\n",
       "      <th>phys_health_consequence</th>\n",
       "      <th>coworkers</th>\n",
       "      <th>supervisor</th>\n",
       "      <th>mental_health_interview</th>\n",
       "      <th>phys_health_interview</th>\n",
       "      <th>mental_vs_physical</th>\n",
       "      <th>obs_consequence</th>\n",
       "      <th>comments</th>\n",
       "    </tr>\n",
       "  </thead>\n",
       "  <tbody>\n",
       "    <tr>\n",
       "      <th>143</th>\n",
       "      <td>2014-08-27 12:39:14</td>\n",
       "      <td>-29</td>\n",
       "      <td>Male</td>\n",
       "      <td>United States</td>\n",
       "      <td>MN</td>\n",
       "      <td>No</td>\n",
       "      <td>No</td>\n",
       "      <td>No</td>\n",
       "      <td>NaN</td>\n",
       "      <td>More than 1000</td>\n",
       "      <td>...</td>\n",
       "      <td>Don't know</td>\n",
       "      <td>No</td>\n",
       "      <td>No</td>\n",
       "      <td>Some of them</td>\n",
       "      <td>Yes</td>\n",
       "      <td>No</td>\n",
       "      <td>No</td>\n",
       "      <td>Don't know</td>\n",
       "      <td>No</td>\n",
       "      <td>NaN</td>\n",
       "    </tr>\n",
       "    <tr>\n",
       "      <th>715</th>\n",
       "      <td>2014-08-28 10:07:53</td>\n",
       "      <td>-1726</td>\n",
       "      <td>male</td>\n",
       "      <td>United Kingdom</td>\n",
       "      <td>NaN</td>\n",
       "      <td>No</td>\n",
       "      <td>No</td>\n",
       "      <td>Yes</td>\n",
       "      <td>Sometimes</td>\n",
       "      <td>26-100</td>\n",
       "      <td>...</td>\n",
       "      <td>Somewhat difficult</td>\n",
       "      <td>Yes</td>\n",
       "      <td>No</td>\n",
       "      <td>No</td>\n",
       "      <td>No</td>\n",
       "      <td>No</td>\n",
       "      <td>Maybe</td>\n",
       "      <td>Don't know</td>\n",
       "      <td>No</td>\n",
       "      <td>NaN</td>\n",
       "    </tr>\n",
       "    <tr>\n",
       "      <th>734</th>\n",
       "      <td>2014-08-28 10:35:55</td>\n",
       "      <td>5</td>\n",
       "      <td>Male</td>\n",
       "      <td>United States</td>\n",
       "      <td>OH</td>\n",
       "      <td>No</td>\n",
       "      <td>No</td>\n",
       "      <td>No</td>\n",
       "      <td>NaN</td>\n",
       "      <td>100-500</td>\n",
       "      <td>...</td>\n",
       "      <td>Somewhat easy</td>\n",
       "      <td>No</td>\n",
       "      <td>No</td>\n",
       "      <td>Yes</td>\n",
       "      <td>Yes</td>\n",
       "      <td>No</td>\n",
       "      <td>No</td>\n",
       "      <td>Yes</td>\n",
       "      <td>No</td>\n",
       "      <td>We had a developer suffer from depression and ...</td>\n",
       "    </tr>\n",
       "    <tr>\n",
       "      <th>989</th>\n",
       "      <td>2014-08-29 09:10:58</td>\n",
       "      <td>8</td>\n",
       "      <td>A little about you</td>\n",
       "      <td>Bahamas, The</td>\n",
       "      <td>IL</td>\n",
       "      <td>Yes</td>\n",
       "      <td>Yes</td>\n",
       "      <td>Yes</td>\n",
       "      <td>Often</td>\n",
       "      <td>1-5</td>\n",
       "      <td>...</td>\n",
       "      <td>Very easy</td>\n",
       "      <td>Yes</td>\n",
       "      <td>Yes</td>\n",
       "      <td>Yes</td>\n",
       "      <td>Yes</td>\n",
       "      <td>Yes</td>\n",
       "      <td>Yes</td>\n",
       "      <td>Yes</td>\n",
       "      <td>Yes</td>\n",
       "      <td></td>\n",
       "    </tr>\n",
       "    <tr>\n",
       "      <th>1090</th>\n",
       "      <td>2014-08-29 17:26:15</td>\n",
       "      <td>11</td>\n",
       "      <td>male</td>\n",
       "      <td>United States</td>\n",
       "      <td>OH</td>\n",
       "      <td>Yes</td>\n",
       "      <td>No</td>\n",
       "      <td>No</td>\n",
       "      <td>Never</td>\n",
       "      <td>1-5</td>\n",
       "      <td>...</td>\n",
       "      <td>Very easy</td>\n",
       "      <td>No</td>\n",
       "      <td>No</td>\n",
       "      <td>Some of them</td>\n",
       "      <td>Some of them</td>\n",
       "      <td>No</td>\n",
       "      <td>Maybe</td>\n",
       "      <td>Yes</td>\n",
       "      <td>No</td>\n",
       "      <td>NaN</td>\n",
       "    </tr>\n",
       "    <tr>\n",
       "      <th>1127</th>\n",
       "      <td>2014-08-30 20:55:11</td>\n",
       "      <td>-1</td>\n",
       "      <td>p</td>\n",
       "      <td>United States</td>\n",
       "      <td>AL</td>\n",
       "      <td>Yes</td>\n",
       "      <td>Yes</td>\n",
       "      <td>Yes</td>\n",
       "      <td>Often</td>\n",
       "      <td>1-5</td>\n",
       "      <td>...</td>\n",
       "      <td>Very easy</td>\n",
       "      <td>Yes</td>\n",
       "      <td>Yes</td>\n",
       "      <td>Yes</td>\n",
       "      <td>Yes</td>\n",
       "      <td>Yes</td>\n",
       "      <td>Yes</td>\n",
       "      <td>Yes</td>\n",
       "      <td>Yes</td>\n",
       "      <td>password: testered</td>\n",
       "    </tr>\n",
       "  </tbody>\n",
       "</table>\n",
       "<p>6 rows × 27 columns</p>\n",
       "</div>"
      ],
      "text/plain": [
       "                Timestamp   Age              Gender         Country state  \\\n",
       "143   2014-08-27 12:39:14   -29                Male   United States    MN   \n",
       "715   2014-08-28 10:07:53 -1726                male  United Kingdom   NaN   \n",
       "734   2014-08-28 10:35:55     5                Male   United States    OH   \n",
       "989   2014-08-29 09:10:58     8  A little about you    Bahamas, The    IL   \n",
       "1090  2014-08-29 17:26:15    11                male   United States    OH   \n",
       "1127  2014-08-30 20:55:11    -1                   p   United States    AL   \n",
       "\n",
       "     self_employed family_history treatment work_interfere    no_employees  \\\n",
       "143             No             No        No            NaN  More than 1000   \n",
       "715             No             No       Yes      Sometimes          26-100   \n",
       "734             No             No        No            NaN         100-500   \n",
       "989            Yes            Yes       Yes          Often             1-5   \n",
       "1090           Yes             No        No          Never             1-5   \n",
       "1127           Yes            Yes       Yes          Often             1-5   \n",
       "\n",
       "      ...               leave mental_health_consequence  \\\n",
       "143   ...          Don't know                        No   \n",
       "715   ...  Somewhat difficult                       Yes   \n",
       "734   ...       Somewhat easy                        No   \n",
       "989   ...           Very easy                       Yes   \n",
       "1090  ...           Very easy                        No   \n",
       "1127  ...           Very easy                       Yes   \n",
       "\n",
       "     phys_health_consequence     coworkers    supervisor  \\\n",
       "143                       No  Some of them           Yes   \n",
       "715                       No            No            No   \n",
       "734                       No           Yes           Yes   \n",
       "989                      Yes           Yes           Yes   \n",
       "1090                      No  Some of them  Some of them   \n",
       "1127                     Yes           Yes           Yes   \n",
       "\n",
       "     mental_health_interview phys_health_interview mental_vs_physical  \\\n",
       "143                       No                    No         Don't know   \n",
       "715                       No                 Maybe         Don't know   \n",
       "734                       No                    No                Yes   \n",
       "989                      Yes                   Yes                Yes   \n",
       "1090                      No                 Maybe                Yes   \n",
       "1127                     Yes                   Yes                Yes   \n",
       "\n",
       "     obs_consequence                                           comments  \n",
       "143               No                                                NaN  \n",
       "715               No                                                NaN  \n",
       "734               No  We had a developer suffer from depression and ...  \n",
       "989              Yes                                                     \n",
       "1090              No                                                NaN  \n",
       "1127             Yes                                 password: testered  \n",
       "\n",
       "[6 rows x 27 columns]"
      ]
     },
     "execution_count": 229,
     "metadata": {},
     "output_type": "execute_result"
    }
   ],
   "source": [
    "data[data['Age']<18]"
   ]
  },
  {
   "cell_type": "markdown",
   "id": "7739c78b",
   "metadata": {},
   "source": [
    "- Similarly, let's assess the Age field for individuals within a maximum age range of approximately **75 years**."
   ]
  },
  {
   "cell_type": "code",
   "execution_count": 230,
   "id": "4667a5ee",
   "metadata": {},
   "outputs": [
    {
     "data": {
      "text/html": [
       "<div>\n",
       "<style scoped>\n",
       "    .dataframe tbody tr th:only-of-type {\n",
       "        vertical-align: middle;\n",
       "    }\n",
       "\n",
       "    .dataframe tbody tr th {\n",
       "        vertical-align: top;\n",
       "    }\n",
       "\n",
       "    .dataframe thead th {\n",
       "        text-align: right;\n",
       "    }\n",
       "</style>\n",
       "<table border=\"1\" class=\"dataframe\">\n",
       "  <thead>\n",
       "    <tr style=\"text-align: right;\">\n",
       "      <th></th>\n",
       "      <th>Timestamp</th>\n",
       "      <th>Age</th>\n",
       "      <th>Gender</th>\n",
       "      <th>Country</th>\n",
       "      <th>state</th>\n",
       "      <th>self_employed</th>\n",
       "      <th>family_history</th>\n",
       "      <th>treatment</th>\n",
       "      <th>work_interfere</th>\n",
       "      <th>no_employees</th>\n",
       "      <th>...</th>\n",
       "      <th>leave</th>\n",
       "      <th>mental_health_consequence</th>\n",
       "      <th>phys_health_consequence</th>\n",
       "      <th>coworkers</th>\n",
       "      <th>supervisor</th>\n",
       "      <th>mental_health_interview</th>\n",
       "      <th>phys_health_interview</th>\n",
       "      <th>mental_vs_physical</th>\n",
       "      <th>obs_consequence</th>\n",
       "      <th>comments</th>\n",
       "    </tr>\n",
       "  </thead>\n",
       "  <tbody>\n",
       "    <tr>\n",
       "      <th>364</th>\n",
       "      <td>2014-08-27 15:05:21</td>\n",
       "      <td>329</td>\n",
       "      <td>Male</td>\n",
       "      <td>United States</td>\n",
       "      <td>OH</td>\n",
       "      <td>No</td>\n",
       "      <td>No</td>\n",
       "      <td>Yes</td>\n",
       "      <td>Often</td>\n",
       "      <td>6-25</td>\n",
       "      <td>...</td>\n",
       "      <td>Don't know</td>\n",
       "      <td>Maybe</td>\n",
       "      <td>No</td>\n",
       "      <td>Some of them</td>\n",
       "      <td>No</td>\n",
       "      <td>No</td>\n",
       "      <td>No</td>\n",
       "      <td>No</td>\n",
       "      <td>No</td>\n",
       "      <td>NaN</td>\n",
       "    </tr>\n",
       "    <tr>\n",
       "      <th>390</th>\n",
       "      <td>2014-08-27 15:24:47</td>\n",
       "      <td>99999999999</td>\n",
       "      <td>All</td>\n",
       "      <td>Zimbabwe</td>\n",
       "      <td>NaN</td>\n",
       "      <td>Yes</td>\n",
       "      <td>Yes</td>\n",
       "      <td>Yes</td>\n",
       "      <td>Often</td>\n",
       "      <td>1-5</td>\n",
       "      <td>...</td>\n",
       "      <td>Very difficult</td>\n",
       "      <td>Yes</td>\n",
       "      <td>Yes</td>\n",
       "      <td>No</td>\n",
       "      <td>No</td>\n",
       "      <td>Yes</td>\n",
       "      <td>No</td>\n",
       "      <td>No</td>\n",
       "      <td>Yes</td>\n",
       "      <td>NaN</td>\n",
       "    </tr>\n",
       "  </tbody>\n",
       "</table>\n",
       "<p>2 rows × 27 columns</p>\n",
       "</div>"
      ],
      "text/plain": [
       "               Timestamp          Age Gender        Country state  \\\n",
       "364  2014-08-27 15:05:21          329   Male  United States    OH   \n",
       "390  2014-08-27 15:24:47  99999999999    All       Zimbabwe   NaN   \n",
       "\n",
       "    self_employed family_history treatment work_interfere no_employees  ...  \\\n",
       "364            No             No       Yes          Often         6-25  ...   \n",
       "390           Yes            Yes       Yes          Often          1-5  ...   \n",
       "\n",
       "              leave mental_health_consequence phys_health_consequence  \\\n",
       "364      Don't know                     Maybe                      No   \n",
       "390  Very difficult                       Yes                     Yes   \n",
       "\n",
       "        coworkers supervisor mental_health_interview phys_health_interview  \\\n",
       "364  Some of them         No                      No                    No   \n",
       "390            No         No                     Yes                    No   \n",
       "\n",
       "    mental_vs_physical obs_consequence comments  \n",
       "364                 No              No      NaN  \n",
       "390                 No             Yes      NaN  \n",
       "\n",
       "[2 rows x 27 columns]"
      ]
     },
     "execution_count": 230,
     "metadata": {},
     "output_type": "execute_result"
    }
   ],
   "source": [
    "data[data['Age']>75]"
   ]
  },
  {
   "cell_type": "markdown",
   "id": "1f8d74e7",
   "metadata": {},
   "source": [
    "- Based on the above output, it appears that these individuals may prefer not to disclose their personal information and have provided potentially random or unspecified values."
   ]
  },
  {
   "cell_type": "markdown",
   "id": "8bb52382",
   "metadata": {},
   "source": [
    "- In this scenario, we can address this issue similarly to how we handle **missing values**, by replacing them with the **mean or median** according to the data."
   ]
  },
  {
   "cell_type": "code",
   "execution_count": 231,
   "id": "ce42e546",
   "metadata": {},
   "outputs": [
    {
     "data": {
      "text/plain": [
       "Timestamp                       0\n",
       "Age                             0\n",
       "Gender                          0\n",
       "Country                         0\n",
       "state                         515\n",
       "self_employed                  18\n",
       "family_history                  0\n",
       "treatment                       0\n",
       "work_interfere                264\n",
       "no_employees                    0\n",
       "remote_work                     0\n",
       "tech_company                    0\n",
       "benefits                        0\n",
       "care_options                    0\n",
       "wellness_program                0\n",
       "seek_help                       0\n",
       "anonymity                       0\n",
       "leave                           0\n",
       "mental_health_consequence       0\n",
       "phys_health_consequence         0\n",
       "coworkers                       0\n",
       "supervisor                      0\n",
       "mental_health_interview         0\n",
       "phys_health_interview           0\n",
       "mental_vs_physical              0\n",
       "obs_consequence                 0\n",
       "comments                     1095\n",
       "dtype: int64"
      ]
     },
     "execution_count": 231,
     "metadata": {},
     "output_type": "execute_result"
    }
   ],
   "source": [
    "data.shape[0]-data.count()"
   ]
  },
  {
   "cell_type": "markdown",
   "id": "5bd9a7aa",
   "metadata": {},
   "source": [
    "- Percentage of missing values."
   ]
  },
  {
   "cell_type": "code",
   "execution_count": 232,
   "id": "40d349f3",
   "metadata": {},
   "outputs": [
    {
     "data": {
      "text/plain": [
       "Timestamp                    0.00\n",
       "Age                          0.00\n",
       "Gender                       0.00\n",
       "Country                      0.00\n",
       "state                       40.91\n",
       "self_employed                1.43\n",
       "family_history               0.00\n",
       "treatment                    0.00\n",
       "work_interfere              20.97\n",
       "no_employees                 0.00\n",
       "remote_work                  0.00\n",
       "tech_company                 0.00\n",
       "benefits                     0.00\n",
       "care_options                 0.00\n",
       "wellness_program             0.00\n",
       "seek_help                    0.00\n",
       "anonymity                    0.00\n",
       "leave                        0.00\n",
       "mental_health_consequence    0.00\n",
       "phys_health_consequence      0.00\n",
       "coworkers                    0.00\n",
       "supervisor                   0.00\n",
       "mental_health_interview      0.00\n",
       "phys_health_interview        0.00\n",
       "mental_vs_physical           0.00\n",
       "obs_consequence              0.00\n",
       "comments                    86.97\n",
       "dtype: float64"
      ]
     },
     "execution_count": 232,
     "metadata": {},
     "output_type": "execute_result"
    }
   ],
   "source": [
    "100*((data.shape[0]-data.count())/data.shape[0])"
   ]
  },
  {
   "cell_type": "markdown",
   "id": "745efa46",
   "metadata": {},
   "source": [
    "- We have missing values in the following columns **state, self_employed, work_interfere and comments.**"
   ]
  },
  {
   "cell_type": "code",
   "execution_count": 233,
   "id": "7af35a61",
   "metadata": {},
   "outputs": [],
   "source": [
    "data_missing = pd.DataFrame(index = data.columns.values)\n",
    "\n"
   ]
  },
  {
   "cell_type": "code",
   "execution_count": 234,
   "id": "f93a8b2b",
   "metadata": {},
   "outputs": [
    {
     "data": {
      "text/html": [
       "<div>\n",
       "<style scoped>\n",
       "    .dataframe tbody tr th:only-of-type {\n",
       "        vertical-align: middle;\n",
       "    }\n",
       "\n",
       "    .dataframe tbody tr th {\n",
       "        vertical-align: top;\n",
       "    }\n",
       "\n",
       "    .dataframe thead th {\n",
       "        text-align: right;\n",
       "    }\n",
       "</style>\n",
       "<table border=\"1\" class=\"dataframe\">\n",
       "  <thead>\n",
       "    <tr style=\"text-align: right;\">\n",
       "      <th></th>\n",
       "      <th>Null</th>\n",
       "    </tr>\n",
       "  </thead>\n",
       "  <tbody>\n",
       "    <tr>\n",
       "      <th>Timestamp</th>\n",
       "      <td>0</td>\n",
       "    </tr>\n",
       "    <tr>\n",
       "      <th>Age</th>\n",
       "      <td>0</td>\n",
       "    </tr>\n",
       "    <tr>\n",
       "      <th>Gender</th>\n",
       "      <td>0</td>\n",
       "    </tr>\n",
       "    <tr>\n",
       "      <th>Country</th>\n",
       "      <td>0</td>\n",
       "    </tr>\n",
       "    <tr>\n",
       "      <th>state</th>\n",
       "      <td>515</td>\n",
       "    </tr>\n",
       "    <tr>\n",
       "      <th>self_employed</th>\n",
       "      <td>18</td>\n",
       "    </tr>\n",
       "    <tr>\n",
       "      <th>family_history</th>\n",
       "      <td>0</td>\n",
       "    </tr>\n",
       "    <tr>\n",
       "      <th>treatment</th>\n",
       "      <td>0</td>\n",
       "    </tr>\n",
       "    <tr>\n",
       "      <th>work_interfere</th>\n",
       "      <td>264</td>\n",
       "    </tr>\n",
       "    <tr>\n",
       "      <th>no_employees</th>\n",
       "      <td>0</td>\n",
       "    </tr>\n",
       "    <tr>\n",
       "      <th>remote_work</th>\n",
       "      <td>0</td>\n",
       "    </tr>\n",
       "    <tr>\n",
       "      <th>tech_company</th>\n",
       "      <td>0</td>\n",
       "    </tr>\n",
       "    <tr>\n",
       "      <th>benefits</th>\n",
       "      <td>0</td>\n",
       "    </tr>\n",
       "    <tr>\n",
       "      <th>care_options</th>\n",
       "      <td>0</td>\n",
       "    </tr>\n",
       "    <tr>\n",
       "      <th>wellness_program</th>\n",
       "      <td>0</td>\n",
       "    </tr>\n",
       "    <tr>\n",
       "      <th>seek_help</th>\n",
       "      <td>0</td>\n",
       "    </tr>\n",
       "    <tr>\n",
       "      <th>anonymity</th>\n",
       "      <td>0</td>\n",
       "    </tr>\n",
       "    <tr>\n",
       "      <th>leave</th>\n",
       "      <td>0</td>\n",
       "    </tr>\n",
       "    <tr>\n",
       "      <th>mental_health_consequence</th>\n",
       "      <td>0</td>\n",
       "    </tr>\n",
       "    <tr>\n",
       "      <th>phys_health_consequence</th>\n",
       "      <td>0</td>\n",
       "    </tr>\n",
       "    <tr>\n",
       "      <th>coworkers</th>\n",
       "      <td>0</td>\n",
       "    </tr>\n",
       "    <tr>\n",
       "      <th>supervisor</th>\n",
       "      <td>0</td>\n",
       "    </tr>\n",
       "    <tr>\n",
       "      <th>mental_health_interview</th>\n",
       "      <td>0</td>\n",
       "    </tr>\n",
       "    <tr>\n",
       "      <th>phys_health_interview</th>\n",
       "      <td>0</td>\n",
       "    </tr>\n",
       "    <tr>\n",
       "      <th>mental_vs_physical</th>\n",
       "      <td>0</td>\n",
       "    </tr>\n",
       "    <tr>\n",
       "      <th>obs_consequence</th>\n",
       "      <td>0</td>\n",
       "    </tr>\n",
       "    <tr>\n",
       "      <th>comments</th>\n",
       "      <td>1095</td>\n",
       "    </tr>\n",
       "  </tbody>\n",
       "</table>\n",
       "</div>"
      ],
      "text/plain": [
       "                           Null\n",
       "Timestamp                     0\n",
       "Age                           0\n",
       "Gender                        0\n",
       "Country                       0\n",
       "state                       515\n",
       "self_employed                18\n",
       "family_history                0\n",
       "treatment                     0\n",
       "work_interfere              264\n",
       "no_employees                  0\n",
       "remote_work                   0\n",
       "tech_company                  0\n",
       "benefits                      0\n",
       "care_options                  0\n",
       "wellness_program              0\n",
       "seek_help                     0\n",
       "anonymity                     0\n",
       "leave                         0\n",
       "mental_health_consequence     0\n",
       "phys_health_consequence       0\n",
       "coworkers                     0\n",
       "supervisor                    0\n",
       "mental_health_interview       0\n",
       "phys_health_interview         0\n",
       "mental_vs_physical            0\n",
       "obs_consequence               0\n",
       "comments                   1095"
      ]
     },
     "execution_count": 234,
     "metadata": {},
     "output_type": "execute_result"
    }
   ],
   "source": [
    "data_missing['Null'] = data.isnull().sum().values\n",
    "data_missing"
   ]
  },
  {
   "cell_type": "code",
   "execution_count": 235,
   "id": "ffd22c72",
   "metadata": {},
   "outputs": [
    {
     "data": {
      "text/html": [
       "<div>\n",
       "<style scoped>\n",
       "    .dataframe tbody tr th:only-of-type {\n",
       "        vertical-align: middle;\n",
       "    }\n",
       "\n",
       "    .dataframe tbody tr th {\n",
       "        vertical-align: top;\n",
       "    }\n",
       "\n",
       "    .dataframe thead th {\n",
       "        text-align: right;\n",
       "    }\n",
       "</style>\n",
       "<table border=\"1\" class=\"dataframe\">\n",
       "  <thead>\n",
       "    <tr style=\"text-align: right;\">\n",
       "      <th></th>\n",
       "      <th>Null</th>\n",
       "      <th>Null percentage</th>\n",
       "    </tr>\n",
       "  </thead>\n",
       "  <tbody>\n",
       "    <tr>\n",
       "      <th>Timestamp</th>\n",
       "      <td>0</td>\n",
       "      <td>0.00</td>\n",
       "    </tr>\n",
       "    <tr>\n",
       "      <th>Age</th>\n",
       "      <td>0</td>\n",
       "      <td>0.00</td>\n",
       "    </tr>\n",
       "    <tr>\n",
       "      <th>Gender</th>\n",
       "      <td>0</td>\n",
       "      <td>0.00</td>\n",
       "    </tr>\n",
       "    <tr>\n",
       "      <th>Country</th>\n",
       "      <td>0</td>\n",
       "      <td>0.00</td>\n",
       "    </tr>\n",
       "    <tr>\n",
       "      <th>state</th>\n",
       "      <td>515</td>\n",
       "      <td>40.91</td>\n",
       "    </tr>\n",
       "    <tr>\n",
       "      <th>self_employed</th>\n",
       "      <td>18</td>\n",
       "      <td>1.43</td>\n",
       "    </tr>\n",
       "    <tr>\n",
       "      <th>family_history</th>\n",
       "      <td>0</td>\n",
       "      <td>0.00</td>\n",
       "    </tr>\n",
       "    <tr>\n",
       "      <th>treatment</th>\n",
       "      <td>0</td>\n",
       "      <td>0.00</td>\n",
       "    </tr>\n",
       "    <tr>\n",
       "      <th>work_interfere</th>\n",
       "      <td>264</td>\n",
       "      <td>20.97</td>\n",
       "    </tr>\n",
       "    <tr>\n",
       "      <th>no_employees</th>\n",
       "      <td>0</td>\n",
       "      <td>0.00</td>\n",
       "    </tr>\n",
       "    <tr>\n",
       "      <th>remote_work</th>\n",
       "      <td>0</td>\n",
       "      <td>0.00</td>\n",
       "    </tr>\n",
       "    <tr>\n",
       "      <th>tech_company</th>\n",
       "      <td>0</td>\n",
       "      <td>0.00</td>\n",
       "    </tr>\n",
       "    <tr>\n",
       "      <th>benefits</th>\n",
       "      <td>0</td>\n",
       "      <td>0.00</td>\n",
       "    </tr>\n",
       "    <tr>\n",
       "      <th>care_options</th>\n",
       "      <td>0</td>\n",
       "      <td>0.00</td>\n",
       "    </tr>\n",
       "    <tr>\n",
       "      <th>wellness_program</th>\n",
       "      <td>0</td>\n",
       "      <td>0.00</td>\n",
       "    </tr>\n",
       "    <tr>\n",
       "      <th>seek_help</th>\n",
       "      <td>0</td>\n",
       "      <td>0.00</td>\n",
       "    </tr>\n",
       "    <tr>\n",
       "      <th>anonymity</th>\n",
       "      <td>0</td>\n",
       "      <td>0.00</td>\n",
       "    </tr>\n",
       "    <tr>\n",
       "      <th>leave</th>\n",
       "      <td>0</td>\n",
       "      <td>0.00</td>\n",
       "    </tr>\n",
       "    <tr>\n",
       "      <th>mental_health_consequence</th>\n",
       "      <td>0</td>\n",
       "      <td>0.00</td>\n",
       "    </tr>\n",
       "    <tr>\n",
       "      <th>phys_health_consequence</th>\n",
       "      <td>0</td>\n",
       "      <td>0.00</td>\n",
       "    </tr>\n",
       "    <tr>\n",
       "      <th>coworkers</th>\n",
       "      <td>0</td>\n",
       "      <td>0.00</td>\n",
       "    </tr>\n",
       "    <tr>\n",
       "      <th>supervisor</th>\n",
       "      <td>0</td>\n",
       "      <td>0.00</td>\n",
       "    </tr>\n",
       "    <tr>\n",
       "      <th>mental_health_interview</th>\n",
       "      <td>0</td>\n",
       "      <td>0.00</td>\n",
       "    </tr>\n",
       "    <tr>\n",
       "      <th>phys_health_interview</th>\n",
       "      <td>0</td>\n",
       "      <td>0.00</td>\n",
       "    </tr>\n",
       "    <tr>\n",
       "      <th>mental_vs_physical</th>\n",
       "      <td>0</td>\n",
       "      <td>0.00</td>\n",
       "    </tr>\n",
       "    <tr>\n",
       "      <th>obs_consequence</th>\n",
       "      <td>0</td>\n",
       "      <td>0.00</td>\n",
       "    </tr>\n",
       "    <tr>\n",
       "      <th>comments</th>\n",
       "      <td>1095</td>\n",
       "      <td>86.97</td>\n",
       "    </tr>\n",
       "  </tbody>\n",
       "</table>\n",
       "</div>"
      ],
      "text/plain": [
       "                           Null  Null percentage\n",
       "Timestamp                     0             0.00\n",
       "Age                           0             0.00\n",
       "Gender                        0             0.00\n",
       "Country                       0             0.00\n",
       "state                       515            40.91\n",
       "self_employed                18             1.43\n",
       "family_history                0             0.00\n",
       "treatment                     0             0.00\n",
       "work_interfere              264            20.97\n",
       "no_employees                  0             0.00\n",
       "remote_work                   0             0.00\n",
       "tech_company                  0             0.00\n",
       "benefits                      0             0.00\n",
       "care_options                  0             0.00\n",
       "wellness_program              0             0.00\n",
       "seek_help                     0             0.00\n",
       "anonymity                     0             0.00\n",
       "leave                         0             0.00\n",
       "mental_health_consequence     0             0.00\n",
       "phys_health_consequence       0             0.00\n",
       "coworkers                     0             0.00\n",
       "supervisor                    0             0.00\n",
       "mental_health_interview       0             0.00\n",
       "phys_health_interview         0             0.00\n",
       "mental_vs_physical            0             0.00\n",
       "obs_consequence               0             0.00\n",
       "comments                   1095            86.97"
      ]
     },
     "execution_count": 235,
     "metadata": {},
     "output_type": "execute_result"
    }
   ],
   "source": [
    "data_missing['Null percentage'] = 100*((data.shape[0]-data.count())/data.shape[0])\n",
    "data_missing"
   ]
  },
  {
   "cell_type": "code",
   "execution_count": 236,
   "id": "cc92b05d",
   "metadata": {},
   "outputs": [
    {
     "data": {
      "text/plain": [
       "United States             751\n",
       "United Kingdom            185\n",
       "Canada                     72\n",
       "Germany                    45\n",
       "Ireland                    27\n",
       "Netherlands                27\n",
       "Australia                  21\n",
       "France                     13\n",
       "India                      10\n",
       "New Zealand                 8\n",
       "Poland                      7\n",
       "Switzerland                 7\n",
       "Sweden                      7\n",
       "Italy                       7\n",
       "South Africa                6\n",
       "Belgium                     6\n",
       "Brazil                      6\n",
       "Israel                      5\n",
       "Singapore                   4\n",
       "Bulgaria                    4\n",
       "Austria                     3\n",
       "Finland                     3\n",
       "Mexico                      3\n",
       "Russia                      3\n",
       "Denmark                     2\n",
       "Greece                      2\n",
       "Colombia                    2\n",
       "Croatia                     2\n",
       "Portugal                    2\n",
       "Moldova                     1\n",
       "Georgia                     1\n",
       "Bahamas, The                1\n",
       "China                       1\n",
       "Thailand                    1\n",
       "Czech Republic              1\n",
       "Norway                      1\n",
       "Romania                     1\n",
       "Nigeria                     1\n",
       "Japan                       1\n",
       "Hungary                     1\n",
       "Bosnia and Herzegovina      1\n",
       "Uruguay                     1\n",
       "Spain                       1\n",
       "Zimbabwe                    1\n",
       "Latvia                      1\n",
       "Costa Rica                  1\n",
       "Slovenia                    1\n",
       "Philippines                 1\n",
       "Name: Country, dtype: int64"
      ]
     },
     "execution_count": 236,
     "metadata": {},
     "output_type": "execute_result"
    }
   ],
   "source": [
    "data['Country'].value_counts()"
   ]
  },
  {
   "cell_type": "code",
   "execution_count": 237,
   "id": "a0df12e9",
   "metadata": {},
   "outputs": [
    {
     "data": {
      "text/plain": [
       "CA    138\n",
       "WA     70\n",
       "NY     56\n",
       "TN     45\n",
       "TX     44\n",
       "Name: state, dtype: int64"
      ]
     },
     "execution_count": 237,
     "metadata": {},
     "output_type": "execute_result"
    }
   ],
   "source": [
    "data[data['Country'] == 'United States']['state'].value_counts().head()"
   ]
  },
  {
   "cell_type": "code",
   "execution_count": 238,
   "id": "e701669e",
   "metadata": {},
   "outputs": [
    {
     "data": {
      "text/plain": [
       "0    CA\n",
       "dtype: object"
      ]
     },
     "execution_count": 238,
     "metadata": {},
     "output_type": "execute_result"
    }
   ],
   "source": [
    "data['state'].mode()"
   ]
  },
  {
   "cell_type": "code",
   "execution_count": 240,
   "id": "11d0f8fe",
   "metadata": {},
   "outputs": [
    {
     "data": {
      "text/plain": [
       "CA    138\n",
       "WA     70\n",
       "NY     57\n",
       "TN     45\n",
       "TX     44\n",
       "OH     30\n",
       "IL     29\n",
       "OR     29\n",
       "PA     29\n",
       "IN     27\n",
       "MI     22\n",
       "MN     21\n",
       "MA     20\n",
       "FL     15\n",
       "NC     14\n",
       "VA     14\n",
       "WI     12\n",
       "GA     12\n",
       "MO     12\n",
       "UT     11\n",
       "CO      9\n",
       "MD      8\n",
       "AL      8\n",
       "AZ      7\n",
       "OK      6\n",
       "NJ      6\n",
       "KY      5\n",
       "SC      5\n",
       "IA      4\n",
       "CT      4\n",
       "DC      4\n",
       "NV      3\n",
       "VT      3\n",
       "SD      3\n",
       "KS      3\n",
       "NH      3\n",
       "WY      2\n",
       "NM      2\n",
       "NE      2\n",
       "WV      1\n",
       "ID      1\n",
       "MS      1\n",
       "RI      1\n",
       "LA      1\n",
       "ME      1\n",
       "Name: state, dtype: int64"
      ]
     },
     "execution_count": 240,
     "metadata": {},
     "output_type": "execute_result"
    }
   ],
   "source": [
    "data['state'].value_counts()"
   ]
  },
  {
   "cell_type": "code",
   "execution_count": 20,
   "id": "2f46fc47",
   "metadata": {},
   "outputs": [
    {
     "data": {
      "text/html": [
       "<div>\n",
       "<style scoped>\n",
       "    .dataframe tbody tr th:only-of-type {\n",
       "        vertical-align: middle;\n",
       "    }\n",
       "\n",
       "    .dataframe tbody tr th {\n",
       "        vertical-align: top;\n",
       "    }\n",
       "\n",
       "    .dataframe thead th {\n",
       "        text-align: right;\n",
       "    }\n",
       "</style>\n",
       "<table border=\"1\" class=\"dataframe\">\n",
       "  <thead>\n",
       "    <tr style=\"text-align: right;\">\n",
       "      <th></th>\n",
       "      <th>Timestamp</th>\n",
       "      <th>Age</th>\n",
       "      <th>Gender</th>\n",
       "      <th>Country</th>\n",
       "      <th>state</th>\n",
       "      <th>self_employed</th>\n",
       "      <th>family_history</th>\n",
       "      <th>treatment</th>\n",
       "      <th>work_interfere</th>\n",
       "      <th>no_employees</th>\n",
       "      <th>...</th>\n",
       "      <th>leave</th>\n",
       "      <th>mental_health_consequence</th>\n",
       "      <th>phys_health_consequence</th>\n",
       "      <th>coworkers</th>\n",
       "      <th>supervisor</th>\n",
       "      <th>mental_health_interview</th>\n",
       "      <th>phys_health_interview</th>\n",
       "      <th>mental_vs_physical</th>\n",
       "      <th>obs_consequence</th>\n",
       "      <th>comments</th>\n",
       "    </tr>\n",
       "  </thead>\n",
       "  <tbody>\n",
       "    <tr>\n",
       "      <th>2</th>\n",
       "      <td>2014-08-27 11:29:44</td>\n",
       "      <td>32</td>\n",
       "      <td>Male</td>\n",
       "      <td>Canada</td>\n",
       "      <td>NaN</td>\n",
       "      <td>NaN</td>\n",
       "      <td>No</td>\n",
       "      <td>No</td>\n",
       "      <td>Rarely</td>\n",
       "      <td>6-25</td>\n",
       "      <td>...</td>\n",
       "      <td>Somewhat difficult</td>\n",
       "      <td>No</td>\n",
       "      <td>No</td>\n",
       "      <td>Yes</td>\n",
       "      <td>Yes</td>\n",
       "      <td>Yes</td>\n",
       "      <td>Yes</td>\n",
       "      <td>No</td>\n",
       "      <td>No</td>\n",
       "      <td>NaN</td>\n",
       "    </tr>\n",
       "    <tr>\n",
       "      <th>3</th>\n",
       "      <td>2014-08-27 11:29:46</td>\n",
       "      <td>31</td>\n",
       "      <td>Male</td>\n",
       "      <td>United Kingdom</td>\n",
       "      <td>NaN</td>\n",
       "      <td>NaN</td>\n",
       "      <td>Yes</td>\n",
       "      <td>Yes</td>\n",
       "      <td>Often</td>\n",
       "      <td>26-100</td>\n",
       "      <td>...</td>\n",
       "      <td>Somewhat difficult</td>\n",
       "      <td>Yes</td>\n",
       "      <td>Yes</td>\n",
       "      <td>Some of them</td>\n",
       "      <td>No</td>\n",
       "      <td>Maybe</td>\n",
       "      <td>Maybe</td>\n",
       "      <td>No</td>\n",
       "      <td>Yes</td>\n",
       "      <td>NaN</td>\n",
       "    </tr>\n",
       "    <tr>\n",
       "      <th>7</th>\n",
       "      <td>2014-08-27 11:32:05</td>\n",
       "      <td>39</td>\n",
       "      <td>M</td>\n",
       "      <td>Canada</td>\n",
       "      <td>NaN</td>\n",
       "      <td>NaN</td>\n",
       "      <td>No</td>\n",
       "      <td>No</td>\n",
       "      <td>Never</td>\n",
       "      <td>1-5</td>\n",
       "      <td>...</td>\n",
       "      <td>Don't know</td>\n",
       "      <td>No</td>\n",
       "      <td>No</td>\n",
       "      <td>No</td>\n",
       "      <td>No</td>\n",
       "      <td>No</td>\n",
       "      <td>No</td>\n",
       "      <td>No</td>\n",
       "      <td>No</td>\n",
       "      <td>NaN</td>\n",
       "    </tr>\n",
       "    <tr>\n",
       "      <th>9</th>\n",
       "      <td>2014-08-27 11:32:43</td>\n",
       "      <td>23</td>\n",
       "      <td>Male</td>\n",
       "      <td>Canada</td>\n",
       "      <td>NaN</td>\n",
       "      <td>NaN</td>\n",
       "      <td>No</td>\n",
       "      <td>No</td>\n",
       "      <td>Never</td>\n",
       "      <td>26-100</td>\n",
       "      <td>...</td>\n",
       "      <td>Don't know</td>\n",
       "      <td>No</td>\n",
       "      <td>No</td>\n",
       "      <td>Yes</td>\n",
       "      <td>Yes</td>\n",
       "      <td>Maybe</td>\n",
       "      <td>Maybe</td>\n",
       "      <td>Yes</td>\n",
       "      <td>No</td>\n",
       "      <td>NaN</td>\n",
       "    </tr>\n",
       "    <tr>\n",
       "      <th>11</th>\n",
       "      <td>2014-08-27 11:32:49</td>\n",
       "      <td>29</td>\n",
       "      <td>male</td>\n",
       "      <td>Bulgaria</td>\n",
       "      <td>NaN</td>\n",
       "      <td>NaN</td>\n",
       "      <td>No</td>\n",
       "      <td>No</td>\n",
       "      <td>Never</td>\n",
       "      <td>100-500</td>\n",
       "      <td>...</td>\n",
       "      <td>Don't know</td>\n",
       "      <td>No</td>\n",
       "      <td>No</td>\n",
       "      <td>Yes</td>\n",
       "      <td>Yes</td>\n",
       "      <td>Yes</td>\n",
       "      <td>Yes</td>\n",
       "      <td>Don't know</td>\n",
       "      <td>No</td>\n",
       "      <td>NaN</td>\n",
       "    </tr>\n",
       "    <tr>\n",
       "      <th>...</th>\n",
       "      <td>...</td>\n",
       "      <td>...</td>\n",
       "      <td>...</td>\n",
       "      <td>...</td>\n",
       "      <td>...</td>\n",
       "      <td>...</td>\n",
       "      <td>...</td>\n",
       "      <td>...</td>\n",
       "      <td>...</td>\n",
       "      <td>...</td>\n",
       "      <td>...</td>\n",
       "      <td>...</td>\n",
       "      <td>...</td>\n",
       "      <td>...</td>\n",
       "      <td>...</td>\n",
       "      <td>...</td>\n",
       "      <td>...</td>\n",
       "      <td>...</td>\n",
       "      <td>...</td>\n",
       "      <td>...</td>\n",
       "      <td>...</td>\n",
       "    </tr>\n",
       "    <tr>\n",
       "      <th>1244</th>\n",
       "      <td>2015-05-05 15:16:25</td>\n",
       "      <td>32</td>\n",
       "      <td>female</td>\n",
       "      <td>United Kingdom</td>\n",
       "      <td>NaN</td>\n",
       "      <td>No</td>\n",
       "      <td>No</td>\n",
       "      <td>No</td>\n",
       "      <td>NaN</td>\n",
       "      <td>More than 1000</td>\n",
       "      <td>...</td>\n",
       "      <td>Don't know</td>\n",
       "      <td>Maybe</td>\n",
       "      <td>No</td>\n",
       "      <td>Some of them</td>\n",
       "      <td>Yes</td>\n",
       "      <td>No</td>\n",
       "      <td>Yes</td>\n",
       "      <td>No</td>\n",
       "      <td>No</td>\n",
       "      <td>NaN</td>\n",
       "    </tr>\n",
       "    <tr>\n",
       "      <th>1245</th>\n",
       "      <td>2015-05-06 10:14:50</td>\n",
       "      <td>22</td>\n",
       "      <td>Male</td>\n",
       "      <td>Australia</td>\n",
       "      <td>NaN</td>\n",
       "      <td>No</td>\n",
       "      <td>Yes</td>\n",
       "      <td>Yes</td>\n",
       "      <td>Often</td>\n",
       "      <td>100-500</td>\n",
       "      <td>...</td>\n",
       "      <td>Don't know</td>\n",
       "      <td>Maybe</td>\n",
       "      <td>Maybe</td>\n",
       "      <td>No</td>\n",
       "      <td>Yes</td>\n",
       "      <td>No</td>\n",
       "      <td>Maybe</td>\n",
       "      <td>Don't know</td>\n",
       "      <td>Yes</td>\n",
       "      <td>In australia all organisations of a certain si...</td>\n",
       "    </tr>\n",
       "    <tr>\n",
       "      <th>1247</th>\n",
       "      <td>2015-05-07 10:08:50</td>\n",
       "      <td>36</td>\n",
       "      <td>male</td>\n",
       "      <td>Finland</td>\n",
       "      <td>NaN</td>\n",
       "      <td>No</td>\n",
       "      <td>No</td>\n",
       "      <td>Yes</td>\n",
       "      <td>Often</td>\n",
       "      <td>6-25</td>\n",
       "      <td>...</td>\n",
       "      <td>Very difficult</td>\n",
       "      <td>Yes</td>\n",
       "      <td>No</td>\n",
       "      <td>Some of them</td>\n",
       "      <td>No</td>\n",
       "      <td>No</td>\n",
       "      <td>Maybe</td>\n",
       "      <td>Don't know</td>\n",
       "      <td>Yes</td>\n",
       "      <td>NaN</td>\n",
       "    </tr>\n",
       "    <tr>\n",
       "      <th>1251</th>\n",
       "      <td>2015-08-17 09:38:35</td>\n",
       "      <td>36</td>\n",
       "      <td>Male</td>\n",
       "      <td>South Africa</td>\n",
       "      <td>NaN</td>\n",
       "      <td>No</td>\n",
       "      <td>Yes</td>\n",
       "      <td>Yes</td>\n",
       "      <td>Often</td>\n",
       "      <td>100-500</td>\n",
       "      <td>...</td>\n",
       "      <td>Somewhat easy</td>\n",
       "      <td>No</td>\n",
       "      <td>No</td>\n",
       "      <td>Some of them</td>\n",
       "      <td>Yes</td>\n",
       "      <td>No</td>\n",
       "      <td>Yes</td>\n",
       "      <td>Yes</td>\n",
       "      <td>No</td>\n",
       "      <td>NaN</td>\n",
       "    </tr>\n",
       "    <tr>\n",
       "      <th>1254</th>\n",
       "      <td>2015-09-12 11:17:21</td>\n",
       "      <td>26</td>\n",
       "      <td>male</td>\n",
       "      <td>United Kingdom</td>\n",
       "      <td>NaN</td>\n",
       "      <td>No</td>\n",
       "      <td>No</td>\n",
       "      <td>Yes</td>\n",
       "      <td>NaN</td>\n",
       "      <td>26-100</td>\n",
       "      <td>...</td>\n",
       "      <td>Somewhat easy</td>\n",
       "      <td>No</td>\n",
       "      <td>No</td>\n",
       "      <td>Some of them</td>\n",
       "      <td>Some of them</td>\n",
       "      <td>No</td>\n",
       "      <td>No</td>\n",
       "      <td>Don't know</td>\n",
       "      <td>No</td>\n",
       "      <td>NaN</td>\n",
       "    </tr>\n",
       "  </tbody>\n",
       "</table>\n",
       "<p>508 rows × 27 columns</p>\n",
       "</div>"
      ],
      "text/plain": [
       "                Timestamp  Age  Gender         Country state self_employed  \\\n",
       "2     2014-08-27 11:29:44   32    Male          Canada   NaN           NaN   \n",
       "3     2014-08-27 11:29:46   31    Male  United Kingdom   NaN           NaN   \n",
       "7     2014-08-27 11:32:05   39       M          Canada   NaN           NaN   \n",
       "9     2014-08-27 11:32:43   23    Male          Canada   NaN           NaN   \n",
       "11    2014-08-27 11:32:49   29    male        Bulgaria   NaN           NaN   \n",
       "...                   ...  ...     ...             ...   ...           ...   \n",
       "1244  2015-05-05 15:16:25   32  female  United Kingdom   NaN            No   \n",
       "1245  2015-05-06 10:14:50   22    Male       Australia   NaN            No   \n",
       "1247  2015-05-07 10:08:50   36    male         Finland   NaN            No   \n",
       "1251  2015-08-17 09:38:35   36    Male    South Africa   NaN            No   \n",
       "1254  2015-09-12 11:17:21   26    male  United Kingdom   NaN            No   \n",
       "\n",
       "     family_history treatment work_interfere    no_employees  ...  \\\n",
       "2                No        No         Rarely            6-25  ...   \n",
       "3               Yes       Yes          Often          26-100  ...   \n",
       "7                No        No          Never             1-5  ...   \n",
       "9                No        No          Never          26-100  ...   \n",
       "11               No        No          Never         100-500  ...   \n",
       "...             ...       ...            ...             ...  ...   \n",
       "1244             No        No            NaN  More than 1000  ...   \n",
       "1245            Yes       Yes          Often         100-500  ...   \n",
       "1247             No       Yes          Often            6-25  ...   \n",
       "1251            Yes       Yes          Often         100-500  ...   \n",
       "1254             No       Yes            NaN          26-100  ...   \n",
       "\n",
       "                   leave mental_health_consequence phys_health_consequence  \\\n",
       "2     Somewhat difficult                        No                      No   \n",
       "3     Somewhat difficult                       Yes                     Yes   \n",
       "7             Don't know                        No                      No   \n",
       "9             Don't know                        No                      No   \n",
       "11            Don't know                        No                      No   \n",
       "...                  ...                       ...                     ...   \n",
       "1244          Don't know                     Maybe                      No   \n",
       "1245          Don't know                     Maybe                   Maybe   \n",
       "1247      Very difficult                       Yes                      No   \n",
       "1251       Somewhat easy                        No                      No   \n",
       "1254       Somewhat easy                        No                      No   \n",
       "\n",
       "         coworkers    supervisor mental_health_interview  \\\n",
       "2              Yes           Yes                     Yes   \n",
       "3     Some of them            No                   Maybe   \n",
       "7               No            No                      No   \n",
       "9              Yes           Yes                   Maybe   \n",
       "11             Yes           Yes                     Yes   \n",
       "...            ...           ...                     ...   \n",
       "1244  Some of them           Yes                      No   \n",
       "1245            No           Yes                      No   \n",
       "1247  Some of them            No                      No   \n",
       "1251  Some of them           Yes                      No   \n",
       "1254  Some of them  Some of them                      No   \n",
       "\n",
       "     phys_health_interview mental_vs_physical obs_consequence  \\\n",
       "2                      Yes                 No              No   \n",
       "3                    Maybe                 No             Yes   \n",
       "7                       No                 No              No   \n",
       "9                    Maybe                Yes              No   \n",
       "11                     Yes         Don't know              No   \n",
       "...                    ...                ...             ...   \n",
       "1244                   Yes                 No              No   \n",
       "1245                 Maybe         Don't know             Yes   \n",
       "1247                 Maybe         Don't know             Yes   \n",
       "1251                   Yes                Yes              No   \n",
       "1254                    No         Don't know              No   \n",
       "\n",
       "                                               comments  \n",
       "2                                                   NaN  \n",
       "3                                                   NaN  \n",
       "7                                                   NaN  \n",
       "9                                                   NaN  \n",
       "11                                                  NaN  \n",
       "...                                                 ...  \n",
       "1244                                                NaN  \n",
       "1245  In australia all organisations of a certain si...  \n",
       "1247                                                NaN  \n",
       "1251                                                NaN  \n",
       "1254                                                NaN  \n",
       "\n",
       "[508 rows x 27 columns]"
      ]
     },
     "execution_count": 20,
     "metadata": {},
     "output_type": "execute_result"
    }
   ],
   "source": [
    "data[data['Country'] != 'United States']"
   ]
  },
  {
   "cell_type": "code",
   "execution_count": 21,
   "id": "da498a18",
   "metadata": {},
   "outputs": [
    {
     "data": {
      "text/plain": [
       "40.3494837172359"
      ]
     },
     "execution_count": 21,
     "metadata": {},
     "output_type": "execute_result"
    }
   ],
   "source": [
    "#Percentage of data outside of the United States \n",
    "\n",
    "100 * (data[data['Country'] != 'United States'].shape[0] / data.shape[0])"
   ]
  },
  {
   "cell_type": "markdown",
   "id": "c2ef3a5d",
   "metadata": {},
   "source": [
    "We face a situation where **40%** of the data is from outside the United States, and the 'state' field has **40%** missing values.\n",
    "- It's important to note that the mode for the 'state' field is California, a location within the United States. \n",
    "- Therefore, it wouldn't be appropriate to replace missing values in the 'state' column for different countries with 'California'."
   ]
  },
  {
   "cell_type": "code",
   "execution_count": 22,
   "id": "1244a026",
   "metadata": {},
   "outputs": [
    {
     "data": {
      "text/plain": [
       "No     1095\n",
       "Yes     146\n",
       "Name: self_employed, dtype: int64"
      ]
     },
     "execution_count": 22,
     "metadata": {},
     "output_type": "execute_result"
    }
   ],
   "source": [
    "data['self_employed'].value_counts()"
   ]
  },
  {
   "cell_type": "code",
   "execution_count": 23,
   "id": "2a531022",
   "metadata": {},
   "outputs": [
    {
     "data": {
      "text/plain": [
       "Sometimes    465\n",
       "Never        213\n",
       "Rarely       173\n",
       "Often        144\n",
       "Name: work_interfere, dtype: int64"
      ]
     },
     "execution_count": 23,
     "metadata": {},
     "output_type": "execute_result"
    }
   ],
   "source": [
    "data['work_interfere'].value_counts()"
   ]
  },
  {
   "cell_type": "code",
   "execution_count": 24,
   "id": "b4d7f3bf",
   "metadata": {},
   "outputs": [
    {
     "data": {
      "text/plain": [
       "Male                                              615\n",
       "male                                              206\n",
       "Female                                            121\n",
       "M                                                 116\n",
       "female                                             62\n",
       "F                                                  38\n",
       "m                                                  34\n",
       "f                                                  15\n",
       "Make                                                4\n",
       "Male                                                3\n",
       "Woman                                               3\n",
       "Cis Male                                            2\n",
       "Man                                                 2\n",
       "Female (trans)                                      2\n",
       "Female                                              2\n",
       "Trans woman                                         1\n",
       "msle                                                1\n",
       "male leaning androgynous                            1\n",
       "Neuter                                              1\n",
       "cis male                                            1\n",
       "queer                                               1\n",
       "Female (cis)                                        1\n",
       "Mail                                                1\n",
       "cis-female/femme                                    1\n",
       "A little about you                                  1\n",
       "Malr                                                1\n",
       "p                                                   1\n",
       "femail                                              1\n",
       "Cis Man                                             1\n",
       "Guy (-ish) ^_^                                      1\n",
       "Enby                                                1\n",
       "Agender                                             1\n",
       "Androgyne                                           1\n",
       "Male-ish                                            1\n",
       "maile                                               1\n",
       "Trans-female                                        1\n",
       "Cis Female                                          1\n",
       "something kinda male?                               1\n",
       "Mal                                                 1\n",
       "Male (CIS)                                          1\n",
       "queer/she/they                                      1\n",
       "non-binary                                          1\n",
       "Femake                                              1\n",
       "woman                                               1\n",
       "Nah                                                 1\n",
       "All                                                 1\n",
       "fluid                                               1\n",
       "Genderqueer                                         1\n",
       "ostensibly male, unsure what that really means      1\n",
       "Name: Gender, dtype: int64"
      ]
     },
     "execution_count": 24,
     "metadata": {},
     "output_type": "execute_result"
    }
   ],
   "source": [
    "data['Gender'].value_counts()"
   ]
  },
  {
   "cell_type": "markdown",
   "id": "2b57f714",
   "metadata": {},
   "source": [
    "- To facilitate a clearer analysis, we will categorize the 'Gender' field into **'Male'**,' **'Female',** and **'Trans'**."
   ]
  },
  {
   "cell_type": "markdown",
   "id": "4a292d7f",
   "metadata": {},
   "source": [
    "**Corrections needed:**\n",
    "\n",
    "\"\"\"\n",
    "\n",
    "1. Inconsistencies in the Age field.\n",
    "2. Missing Values:\n",
    "    - state - Delete the field.             (40% values are missing).\n",
    "    - self_employed - Replace with Mode.    (1.4% values are missing).\n",
    "    - work_interfere - Replace with Mode.   (21% values are missing). \n",
    "    - comments - Delete the field.          (87% values are missing).\n",
    "    \n",
    "3. Duplicate - not allowed.\n",
    "4. Gender - Categorize into Male, Female & Others - for the better understanding of our analysis.\n",
    "5. Type Casting of Datetime format.\n",
    "\n",
    "\"\"\""
   ]
  },
  {
   "cell_type": "markdown",
   "id": "7eadb430",
   "metadata": {},
   "source": [
    "# 6. Data Pre Processing"
   ]
  },
  {
   "cell_type": "markdown",
   "id": "d7d77430",
   "metadata": {},
   "source": [
    "- Performing the above mentioned corrections for the Missing values"
   ]
  },
  {
   "cell_type": "code",
   "execution_count": 25,
   "id": "482a26bc",
   "metadata": {},
   "outputs": [
    {
     "data": {
      "text/plain": [
       "'No'"
      ]
     },
     "execution_count": 25,
     "metadata": {},
     "output_type": "execute_result"
    }
   ],
   "source": [
    "data['self_employed'].mode()[0]"
   ]
  },
  {
   "cell_type": "code",
   "execution_count": 26,
   "id": "abe7371e",
   "metadata": {},
   "outputs": [],
   "source": [
    "data['self_employed'] = data['self_employed'].replace(np.nan, data['self_employed'].mode()[0])\n",
    "data['work_interfere'] = data['work_interfere'].replace(np.nan, data['work_interfere'].mode()[0])\n",
    "\n",
    "data.drop(['state','comments'], axis=1, inplace = True)"
   ]
  },
  {
   "cell_type": "markdown",
   "id": "288507d1",
   "metadata": {},
   "source": [
    "- Lets verify the integrity of missing values again."
   ]
  },
  {
   "cell_type": "code",
   "execution_count": 27,
   "id": "7d824237",
   "metadata": {},
   "outputs": [
    {
     "data": {
      "text/html": [
       "<div>\n",
       "<style scoped>\n",
       "    .dataframe tbody tr th:only-of-type {\n",
       "        vertical-align: middle;\n",
       "    }\n",
       "\n",
       "    .dataframe tbody tr th {\n",
       "        vertical-align: top;\n",
       "    }\n",
       "\n",
       "    .dataframe thead th {\n",
       "        text-align: right;\n",
       "    }\n",
       "</style>\n",
       "<table border=\"1\" class=\"dataframe\">\n",
       "  <thead>\n",
       "    <tr style=\"text-align: right;\">\n",
       "      <th></th>\n",
       "      <th>Null</th>\n",
       "      <th>Null percentage</th>\n",
       "    </tr>\n",
       "  </thead>\n",
       "  <tbody>\n",
       "    <tr>\n",
       "      <th>Timestamp</th>\n",
       "      <td>0</td>\n",
       "      <td>0.00</td>\n",
       "    </tr>\n",
       "    <tr>\n",
       "      <th>Age</th>\n",
       "      <td>0</td>\n",
       "      <td>0.00</td>\n",
       "    </tr>\n",
       "    <tr>\n",
       "      <th>Gender</th>\n",
       "      <td>0</td>\n",
       "      <td>0.00</td>\n",
       "    </tr>\n",
       "    <tr>\n",
       "      <th>Country</th>\n",
       "      <td>0</td>\n",
       "      <td>0.00</td>\n",
       "    </tr>\n",
       "    <tr>\n",
       "      <th>state</th>\n",
       "      <td>515</td>\n",
       "      <td>NaN</td>\n",
       "    </tr>\n",
       "    <tr>\n",
       "      <th>self_employed</th>\n",
       "      <td>18</td>\n",
       "      <td>0.00</td>\n",
       "    </tr>\n",
       "    <tr>\n",
       "      <th>family_history</th>\n",
       "      <td>0</td>\n",
       "      <td>0.00</td>\n",
       "    </tr>\n",
       "    <tr>\n",
       "      <th>treatment</th>\n",
       "      <td>0</td>\n",
       "      <td>0.00</td>\n",
       "    </tr>\n",
       "    <tr>\n",
       "      <th>work_interfere</th>\n",
       "      <td>264</td>\n",
       "      <td>0.00</td>\n",
       "    </tr>\n",
       "    <tr>\n",
       "      <th>no_employees</th>\n",
       "      <td>0</td>\n",
       "      <td>0.00</td>\n",
       "    </tr>\n",
       "    <tr>\n",
       "      <th>remote_work</th>\n",
       "      <td>0</td>\n",
       "      <td>0.00</td>\n",
       "    </tr>\n",
       "    <tr>\n",
       "      <th>tech_company</th>\n",
       "      <td>0</td>\n",
       "      <td>0.00</td>\n",
       "    </tr>\n",
       "    <tr>\n",
       "      <th>benefits</th>\n",
       "      <td>0</td>\n",
       "      <td>0.00</td>\n",
       "    </tr>\n",
       "    <tr>\n",
       "      <th>care_options</th>\n",
       "      <td>0</td>\n",
       "      <td>0.00</td>\n",
       "    </tr>\n",
       "    <tr>\n",
       "      <th>wellness_program</th>\n",
       "      <td>0</td>\n",
       "      <td>0.00</td>\n",
       "    </tr>\n",
       "    <tr>\n",
       "      <th>seek_help</th>\n",
       "      <td>0</td>\n",
       "      <td>0.00</td>\n",
       "    </tr>\n",
       "    <tr>\n",
       "      <th>anonymity</th>\n",
       "      <td>0</td>\n",
       "      <td>0.00</td>\n",
       "    </tr>\n",
       "    <tr>\n",
       "      <th>leave</th>\n",
       "      <td>0</td>\n",
       "      <td>0.00</td>\n",
       "    </tr>\n",
       "    <tr>\n",
       "      <th>mental_health_consequence</th>\n",
       "      <td>0</td>\n",
       "      <td>0.00</td>\n",
       "    </tr>\n",
       "    <tr>\n",
       "      <th>phys_health_consequence</th>\n",
       "      <td>0</td>\n",
       "      <td>0.00</td>\n",
       "    </tr>\n",
       "    <tr>\n",
       "      <th>coworkers</th>\n",
       "      <td>0</td>\n",
       "      <td>0.00</td>\n",
       "    </tr>\n",
       "    <tr>\n",
       "      <th>supervisor</th>\n",
       "      <td>0</td>\n",
       "      <td>0.00</td>\n",
       "    </tr>\n",
       "    <tr>\n",
       "      <th>mental_health_interview</th>\n",
       "      <td>0</td>\n",
       "      <td>0.00</td>\n",
       "    </tr>\n",
       "    <tr>\n",
       "      <th>phys_health_interview</th>\n",
       "      <td>0</td>\n",
       "      <td>0.00</td>\n",
       "    </tr>\n",
       "    <tr>\n",
       "      <th>mental_vs_physical</th>\n",
       "      <td>0</td>\n",
       "      <td>0.00</td>\n",
       "    </tr>\n",
       "    <tr>\n",
       "      <th>obs_consequence</th>\n",
       "      <td>0</td>\n",
       "      <td>0.00</td>\n",
       "    </tr>\n",
       "    <tr>\n",
       "      <th>comments</th>\n",
       "      <td>1095</td>\n",
       "      <td>NaN</td>\n",
       "    </tr>\n",
       "  </tbody>\n",
       "</table>\n",
       "</div>"
      ],
      "text/plain": [
       "                           Null  Null percentage\n",
       "Timestamp                     0             0.00\n",
       "Age                           0             0.00\n",
       "Gender                        0             0.00\n",
       "Country                       0             0.00\n",
       "state                       515              NaN\n",
       "self_employed                18             0.00\n",
       "family_history                0             0.00\n",
       "treatment                     0             0.00\n",
       "work_interfere              264             0.00\n",
       "no_employees                  0             0.00\n",
       "remote_work                   0             0.00\n",
       "tech_company                  0             0.00\n",
       "benefits                      0             0.00\n",
       "care_options                  0             0.00\n",
       "wellness_program              0             0.00\n",
       "seek_help                     0             0.00\n",
       "anonymity                     0             0.00\n",
       "leave                         0             0.00\n",
       "mental_health_consequence     0             0.00\n",
       "phys_health_consequence       0             0.00\n",
       "coworkers                     0             0.00\n",
       "supervisor                    0             0.00\n",
       "mental_health_interview       0             0.00\n",
       "phys_health_interview         0             0.00\n",
       "mental_vs_physical            0             0.00\n",
       "obs_consequence               0             0.00\n",
       "comments                   1095              NaN"
      ]
     },
     "execution_count": 27,
     "metadata": {},
     "output_type": "execute_result"
    }
   ],
   "source": [
    "data_missing['Null percentage'] = 100*((data.shape[0]-data.count())/data.shape[0])\n",
    "data_missing"
   ]
  },
  {
   "cell_type": "code",
   "execution_count": 28,
   "id": "12afcf5c",
   "metadata": {},
   "outputs": [
    {
     "data": {
      "text/plain": [
       "Timestamp                   0.00\n",
       "Age                         0.00\n",
       "Gender                      0.00\n",
       "Country                     0.00\n",
       "self_employed               0.00\n",
       "family_history              0.00\n",
       "treatment                   0.00\n",
       "work_interfere              0.00\n",
       "no_employees                0.00\n",
       "remote_work                 0.00\n",
       "tech_company                0.00\n",
       "benefits                    0.00\n",
       "care_options                0.00\n",
       "wellness_program            0.00\n",
       "seek_help                   0.00\n",
       "anonymity                   0.00\n",
       "leave                       0.00\n",
       "mental_health_consequence   0.00\n",
       "phys_health_consequence     0.00\n",
       "coworkers                   0.00\n",
       "supervisor                  0.00\n",
       "mental_health_interview     0.00\n",
       "phys_health_interview       0.00\n",
       "mental_vs_physical          0.00\n",
       "obs_consequence             0.00\n",
       "dtype: float64"
      ]
     },
     "execution_count": 28,
     "metadata": {},
     "output_type": "execute_result"
    }
   ],
   "source": [
    "100*((data.shape[0]-data.count())/data.shape[0])"
   ]
  },
  {
   "cell_type": "markdown",
   "id": "5c72bb44",
   "metadata": {},
   "source": [
    "- **Lets check for any duplicated values**"
   ]
  },
  {
   "cell_type": "code",
   "execution_count": 29,
   "id": "b07f4b6c",
   "metadata": {},
   "outputs": [
    {
     "data": {
      "text/plain": [
       "False"
      ]
     },
     "execution_count": 29,
     "metadata": {},
     "output_type": "execute_result"
    }
   ],
   "source": [
    "data.duplicated().any()"
   ]
  },
  {
   "cell_type": "code",
   "execution_count": 30,
   "id": "d7be9a26",
   "metadata": {},
   "outputs": [
    {
     "name": "stdout",
     "output_type": "stream",
     "text": [
      "Contains any Duplicated rows ? False\n"
     ]
    }
   ],
   "source": [
    "print('Contains any Duplicated rows ?', data.duplicated().any())"
   ]
  },
  {
   "cell_type": "markdown",
   "id": "6f598427",
   "metadata": {},
   "source": [
    "- **Typecasting of Timestamp**"
   ]
  },
  {
   "cell_type": "code",
   "execution_count": 31,
   "id": "701bfe63",
   "metadata": {},
   "outputs": [
    {
     "data": {
      "text/plain": [
       "array(['2014-08-27 11:29:31', '2014-08-27 11:29:37',\n",
       "       '2014-08-27 11:29:44', ..., '2015-11-07 12:36:58',\n",
       "       '2015-11-30 21:25:06', '2016-02-01 23:04:31'], dtype=object)"
      ]
     },
     "execution_count": 31,
     "metadata": {},
     "output_type": "execute_result"
    }
   ],
   "source": [
    "data['Timestamp'].unique()"
   ]
  },
  {
   "cell_type": "code",
   "execution_count": 32,
   "id": "d96c655c",
   "metadata": {},
   "outputs": [],
   "source": [
    "data['Timestamp'] = pd.to_datetime(data['Timestamp'])"
   ]
  },
  {
   "cell_type": "code",
   "execution_count": 33,
   "id": "d8fc1011",
   "metadata": {},
   "outputs": [
    {
     "name": "stdout",
     "output_type": "stream",
     "text": [
      "<class 'pandas.core.frame.DataFrame'>\n",
      "RangeIndex: 1259 entries, 0 to 1258\n",
      "Data columns (total 25 columns):\n",
      " #   Column                     Non-Null Count  Dtype         \n",
      "---  ------                     --------------  -----         \n",
      " 0   Timestamp                  1259 non-null   datetime64[ns]\n",
      " 1   Age                        1259 non-null   int64         \n",
      " 2   Gender                     1259 non-null   object        \n",
      " 3   Country                    1259 non-null   object        \n",
      " 4   self_employed              1259 non-null   object        \n",
      " 5   family_history             1259 non-null   object        \n",
      " 6   treatment                  1259 non-null   object        \n",
      " 7   work_interfere             1259 non-null   object        \n",
      " 8   no_employees               1259 non-null   object        \n",
      " 9   remote_work                1259 non-null   object        \n",
      " 10  tech_company               1259 non-null   object        \n",
      " 11  benefits                   1259 non-null   object        \n",
      " 12  care_options               1259 non-null   object        \n",
      " 13  wellness_program           1259 non-null   object        \n",
      " 14  seek_help                  1259 non-null   object        \n",
      " 15  anonymity                  1259 non-null   object        \n",
      " 16  leave                      1259 non-null   object        \n",
      " 17  mental_health_consequence  1259 non-null   object        \n",
      " 18  phys_health_consequence    1259 non-null   object        \n",
      " 19  coworkers                  1259 non-null   object        \n",
      " 20  supervisor                 1259 non-null   object        \n",
      " 21  mental_health_interview    1259 non-null   object        \n",
      " 22  phys_health_interview      1259 non-null   object        \n",
      " 23  mental_vs_physical         1259 non-null   object        \n",
      " 24  obs_consequence            1259 non-null   object        \n",
      "dtypes: datetime64[ns](1), int64(1), object(23)\n",
      "memory usage: 246.0+ KB\n"
     ]
    }
   ],
   "source": [
    "data.info()"
   ]
  },
  {
   "cell_type": "markdown",
   "id": "fe7297a0",
   "metadata": {},
   "source": [
    "- We need to address the concerns present in the **Age** & **Gender** fields."
   ]
  },
  {
   "cell_type": "code",
   "execution_count": 34,
   "id": "feebb5a4",
   "metadata": {},
   "outputs": [
    {
     "name": "stdout",
     "output_type": "stream",
     "text": [
      "Unique Genders present in the data : 49\n",
      "Unique Genders present in the data : {'woman', 'm', 'Androgyne', 'Male', 'F', 'Female (cis)', 'Female', 'Make', 'All', 'something kinda male?', 'Neuter', 'M', 'femail', 'male', 'Woman', 'fluid', 'queer/she/they', 'f', 'Agender', 'p', 'queer', 'A little about you', 'Cis Man', 'Female (trans)', 'Guy (-ish) ^_^', 'Male (CIS)', 'Man', 'cis male', 'non-binary', 'Enby', 'msle', 'Trans woman', 'Femake', 'Female ', 'female', 'Cis Male', 'Trans-female', 'ostensibly male, unsure what that really means', 'Male-ish', 'Malr', 'Nah', 'maile', 'Male ', 'Mail', 'Genderqueer', 'male leaning androgynous', 'Mal', 'Cis Female', 'cis-female/femme'}\n"
     ]
    }
   ],
   "source": [
    "#unique values in the Gender field\n",
    "\n",
    "print('Unique Genders present in the data :', data['Gender'].nunique())\n",
    "print('Unique Genders present in the data :', set(data['Gender']))"
   ]
  },
  {
   "cell_type": "code",
   "execution_count": 35,
   "id": "8ea98ba2",
   "metadata": {},
   "outputs": [
    {
     "data": {
      "text/plain": [
       "array(['female', 'm', 'male', 'male-ish', 'maile', 'trans-female',\n",
       "       'cis female', 'f', 'something kinda male?', 'cis male', 'woman',\n",
       "       'mal', 'male (cis)', 'queer/she/they', 'non-binary', 'femake',\n",
       "       'make', 'nah', 'all', 'enby', 'fluid', 'genderqueer', 'female ',\n",
       "       'androgyne', 'agender', 'cis-female/femme', 'guy (-ish) ^_^',\n",
       "       'male leaning androgynous', 'male ', 'man', 'trans woman', 'msle',\n",
       "       'neuter', 'female (trans)', 'queer', 'female (cis)', 'mail',\n",
       "       'a little about you', 'malr', 'p', 'femail', 'cis man',\n",
       "       'ostensibly male, unsure what that really means'], dtype=object)"
      ]
     },
     "execution_count": 35,
     "metadata": {},
     "output_type": "execute_result"
    }
   ],
   "source": [
    "data['Gender'].str.lower().unique()"
   ]
  },
  {
   "cell_type": "code",
   "execution_count": 36,
   "id": "8a0d162e",
   "metadata": {},
   "outputs": [
    {
     "name": "stdout",
     "output_type": "stream",
     "text": [
      "['female' 'male' 'trans']\n"
     ]
    }
   ],
   "source": [
    "unique_gender = data['Gender'].str.lower().unique()\n",
    "\n",
    "# Stratas of Gender category\n",
    "male_str = [\"male\", \"m\", \"male-ish\", \"maile\", \"mal\", \"male (cis)\", \"make\", \n",
    "            \"male \", \"man\",\"msle\", \"mail\", \"malr\",\"cis man\", \"Cis Male\", \n",
    "            \"cis male\"]\n",
    "trans_str = [\"trans-female\", \"something kinda male?\", \"queer/she/they\", \n",
    "             \"non-binary\",\"nah\", \"all\", \"enby\", \"fluid\", \"genderqueer\", \n",
    "             \"androgyne\", \"agender\", \"male leaning androgynous\", \"guy (-ish) ^_^\", \n",
    "             \"trans woman\", \"neuter\", \"female (trans)\", \"queer\", \n",
    "             \"ostensibly male, unsure what that really means\"]           \n",
    "female_str = [\"cis female\", \"f\", \"female\", \"woman\",  \"femake\", \"female \", \n",
    "              \"cis-female/femme\", \"female (cis)\", \"femail\"]\n",
    "\n",
    "# Iterate over rows and replace the inconsistent data with right data\n",
    "for (row, col) in data.iterrows():\n",
    "    if str.lower(col['Gender']) in male_str:\n",
    "        data['Gender'].replace(to_replace=col['Gender'], value='male', inplace=True)\n",
    "        \n",
    "    if str.lower(col['Gender']) in female_str:\n",
    "        data['Gender'].replace(to_replace=col['Gender'], value='female', inplace=True)\n",
    "        \n",
    "    if str.lower(col['Gender']) in trans_str:\n",
    "        data['Gender'].replace(to_replace=col['Gender'], value='trans', inplace=True)\n",
    "\n",
    "# Remove rest of the unnecessary text\n",
    "stk_list = ['A little about you', 'p']\n",
    "data = data[~data['Gender'].isin(stk_list)]\n",
    "\n",
    "# Display the unique value of Gender feature\n",
    "print(data['Gender'].unique())"
   ]
  },
  {
   "cell_type": "markdown",
   "id": "5f5b5383",
   "metadata": {},
   "source": [
    "- Substituting the outliers in the Age field with the **median** value, as the median is not influenced by the outliers."
   ]
  },
  {
   "cell_type": "code",
   "execution_count": 37,
   "id": "3848eb0d",
   "metadata": {},
   "outputs": [
    {
     "data": {
      "text/plain": [
       "31.0"
      ]
     },
     "execution_count": 37,
     "metadata": {},
     "output_type": "execute_result"
    }
   ],
   "source": [
    "data['Age'].median()"
   ]
  },
  {
   "cell_type": "code",
   "execution_count": 38,
   "id": "419124ce",
   "metadata": {},
   "outputs": [],
   "source": [
    "data['Age'][data['Age'] > 75] = data['Age'].median()\n",
    "data['Age'][data['Age'] < 18] = data['Age'].median()"
   ]
  },
  {
   "cell_type": "code",
   "execution_count": 39,
   "id": "37c2abe9",
   "metadata": {},
   "outputs": [
    {
     "data": {
      "text/plain": [
       "count   1257.00\n",
       "mean      32.07\n",
       "std        7.27\n",
       "min       18.00\n",
       "25%       27.00\n",
       "50%       31.00\n",
       "75%       36.00\n",
       "max       72.00\n",
       "Name: Age, dtype: float64"
      ]
     },
     "execution_count": 39,
     "metadata": {},
     "output_type": "execute_result"
    }
   ],
   "source": [
    "data['Age'].describe()"
   ]
  },
  {
   "cell_type": "code",
   "execution_count": 40,
   "id": "e1a3a0fd",
   "metadata": {},
   "outputs": [
    {
     "name": "stdout",
     "output_type": "stream",
     "text": [
      "<class 'pandas.core.frame.DataFrame'>\n",
      "Int64Index: 1257 entries, 0 to 1258\n",
      "Data columns (total 25 columns):\n",
      " #   Column                     Non-Null Count  Dtype         \n",
      "---  ------                     --------------  -----         \n",
      " 0   Timestamp                  1257 non-null   datetime64[ns]\n",
      " 1   Age                        1257 non-null   int64         \n",
      " 2   Gender                     1257 non-null   object        \n",
      " 3   Country                    1257 non-null   object        \n",
      " 4   self_employed              1257 non-null   object        \n",
      " 5   family_history             1257 non-null   object        \n",
      " 6   treatment                  1257 non-null   object        \n",
      " 7   work_interfere             1257 non-null   object        \n",
      " 8   no_employees               1257 non-null   object        \n",
      " 9   remote_work                1257 non-null   object        \n",
      " 10  tech_company               1257 non-null   object        \n",
      " 11  benefits                   1257 non-null   object        \n",
      " 12  care_options               1257 non-null   object        \n",
      " 13  wellness_program           1257 non-null   object        \n",
      " 14  seek_help                  1257 non-null   object        \n",
      " 15  anonymity                  1257 non-null   object        \n",
      " 16  leave                      1257 non-null   object        \n",
      " 17  mental_health_consequence  1257 non-null   object        \n",
      " 18  phys_health_consequence    1257 non-null   object        \n",
      " 19  coworkers                  1257 non-null   object        \n",
      " 20  supervisor                 1257 non-null   object        \n",
      " 21  mental_health_interview    1257 non-null   object        \n",
      " 22  phys_health_interview      1257 non-null   object        \n",
      " 23  mental_vs_physical         1257 non-null   object        \n",
      " 24  obs_consequence            1257 non-null   object        \n",
      "dtypes: datetime64[ns](1), int64(1), object(23)\n",
      "memory usage: 255.3+ KB\n"
     ]
    }
   ],
   "source": [
    "data.info()"
   ]
  },
  {
   "cell_type": "markdown",
   "id": "4fe29b15",
   "metadata": {},
   "source": [
    "# 7. Exploratory Data Analysis"
   ]
  },
  {
   "cell_type": "markdown",
   "id": "f7d1cee0",
   "metadata": {},
   "source": [
    "- A Series of questions to uncover patterns, trends, anomalies, relationships, and key insights without making any formal assumptions about the data."
   ]
  },
  {
   "cell_type": "markdown",
   "id": "219c6d93",
   "metadata": {},
   "source": [
    "**Q.** Which Age group are more conscious about their mental health ?"
   ]
  },
  {
   "cell_type": "code",
   "execution_count": 41,
   "id": "8f29598d",
   "metadata": {},
   "outputs": [
    {
     "data": {
      "text/plain": [
       "Yes    635\n",
       "No     622\n",
       "Name: treatment, dtype: int64"
      ]
     },
     "execution_count": 41,
     "metadata": {},
     "output_type": "execute_result"
    }
   ],
   "source": [
    "#Lets try to plot Age vs Treatment\n",
    "data['treatment'].value_counts()"
   ]
  },
  {
   "cell_type": "code",
   "execution_count": 42,
   "id": "6c07793a",
   "metadata": {},
   "outputs": [
    {
     "data": {
      "image/png": "[encoded data removed]",
      "text/plain": [
       "<Figure size 1080x576 with 1 Axes>"
      ]
     },
     "metadata": {
      "needs_background": "light"
     },
     "output_type": "display_data"
    }
   ],
   "source": [
    "figure = plt.figure(figsize=[15, 8])\n",
    "\n",
    "data[data['treatment'] == 'Yes']['Age'].plot.kde(color='blue')\n",
    "data[data['treatment'] == 'No']['Age'].plot.kde(color='orangered')\n",
    "\n",
    "plt.xticks(ticks=np.arange(0, 100, 5), size=12)\n",
    "plt.yticks(size=12)\n",
    "plt.xlabel(xlabel='Age', size=14)\n",
    "plt.ylabel(ylabel='Density', size=14)\n",
    "plt.title(label='Density of Age Feature', size=16)\n",
    "plt.show()"
   ]
  },
  {
   "cell_type": "code",
   "execution_count": 43,
   "id": "e06c7f66",
   "metadata": {},
   "outputs": [
    {
     "data": {
      "image/png": "[encoded data removed]",
      "text/plain": [
       "<Figure size 1080x576 with 1 Axes>"
      ]
     },
     "metadata": {
      "needs_background": "light"
     },
     "output_type": "display_data"
    }
   ],
   "source": [
    "fig = plt.figure(figsize=(15, 8))\n",
    "\n",
    "sns.countplot(x='Age', hue='treatment', data=data)\n",
    "\n",
    "plt.title(label='Age vs Treatment', size=16)\n",
    "plt.xlabel(xlabel='Age', size=14)\n",
    "plt.ylabel(ylabel='Frequency', size=14)\n",
    "plt.xticks(size=12)\n",
    "plt.yticks(size=12)\n",
    "#plt.grid(b=True)\n",
    "\n",
    "plt.show()"
   ]
  },
  {
   "cell_type": "markdown",
   "id": "bf4d1cfc",
   "metadata": {},
   "source": [
    "- Analyzing the proportions, it suggests that individuals over the age of **30** are addressing their mental health concerns."
   ]
  },
  {
   "cell_type": "markdown",
   "id": "76f33411",
   "metadata": {},
   "source": [
    "**Q.** What is the Density distribution Age field ?"
   ]
  },
  {
   "cell_type": "code",
   "execution_count": 44,
   "id": "c9477428",
   "metadata": {},
   "outputs": [
    {
     "data": {
      "image/png": "[encoded data removed]",
      "text/plain": [
       "<Figure size 1080x576 with 1 Axes>"
      ]
     },
     "metadata": {
      "needs_background": "light"
     },
     "output_type": "display_data"
    }
   ],
   "source": [
    "figure = plt.figure(figsize=[15, 8])\n",
    "\n",
    "sns.distplot(data['Age'], kde=True, color = 'navy')\n",
    "\n",
    "plt.xticks(ticks=np.arange(0, 100, 5), size=12)\n",
    "plt.yticks(size=12)\n",
    "plt.xlabel(xlabel='Age', size=14)\n",
    "plt.ylabel(ylabel='Density', size=14)\n",
    "plt.title(label='Density of Age Feature', size=16)\n",
    "plt.show()"
   ]
  },
  {
   "cell_type": "markdown",
   "id": "e66d2d34",
   "metadata": {},
   "source": [
    "**Observation:**\n",
    "\n",
    "- The data shows a prominent peak occurring between the **mid-20s** to about **mid-30s**, indicating that the majority of individuals fall within this age range."
   ]
  },
  {
   "cell_type": "markdown",
   "id": "4fa1b157",
   "metadata": {},
   "source": [
    "**Q.** What is the assosciation between Gender & Treatment ?"
   ]
  },
  {
   "cell_type": "code",
   "execution_count": 45,
   "id": "dffe1ea5",
   "metadata": {},
   "outputs": [
    {
     "data": {
      "image/png": "[encoded data removed]",
      "text/plain": [
       "<Figure size 1440x720 with 3 Axes>"
      ]
     },
     "metadata": {},
     "output_type": "display_data"
    }
   ],
   "source": [
    "figure = plt.figure(figsize=[20, 10])\n",
    "\n",
    "plt.subplot(1,3,1)\n",
    "data['treatment'][data['Gender'] == 'male'].value_counts().plot(kind='pie', autopct='%1.1f%%', wedgeprops = dict(width = 0.15), startangle=90)\n",
    "plt.title(label='Treatment in Males', size=16)\n",
    "\n",
    "plt.subplot(1,3,2)\n",
    "data['treatment'][data['Gender'] == 'female'].value_counts().plot.pie(autopct='%1.1f%%',wedgeprops = dict(width = 0.15), startangle=90)\n",
    "plt.title(label='Treatment in Females', size=16)\n",
    "\n",
    "plt.subplot(1,3,3)\n",
    "data['treatment'][data['Gender'] == 'trans'].value_counts().plot.pie(autopct='%1.1f%%', wedgeprops = dict(width = 0.15), startangle=90)\n",
    "plt.title(label='Treatment in Trans', size=16)\n",
    "\n",
    "plt.show()"
   ]
  },
  {
   "cell_type": "markdown",
   "id": "19b80f7c",
   "metadata": {},
   "source": [
    "- Based on the data, it appears that individuals identifying as **Trans** and **Females** exhibit a higher tendency to seek treatment for mental health issues in comparison to **Males**."
   ]
  },
  {
   "cell_type": "markdown",
   "id": "1bdb790f",
   "metadata": {},
   "source": [
    "**Q.** What is the assosciation between Treatment  & Work_interference ?"
   ]
  },
  {
   "cell_type": "code",
   "execution_count": 46,
   "id": "b2992388",
   "metadata": {},
   "outputs": [
    {
     "data": {
      "text/plain": [
       "Yes    635\n",
       "No     622\n",
       "Name: treatment, dtype: int64"
      ]
     },
     "execution_count": 46,
     "metadata": {},
     "output_type": "execute_result"
    }
   ],
   "source": [
    "data['treatment'].value_counts()"
   ]
  },
  {
   "cell_type": "code",
   "execution_count": 47,
   "id": "a355b525",
   "metadata": {},
   "outputs": [
    {
     "data": {
      "text/plain": [
       "Sometimes    729\n",
       "Never        213\n",
       "Rarely       173\n",
       "Often        142\n",
       "Name: work_interfere, dtype: int64"
      ]
     },
     "execution_count": 47,
     "metadata": {},
     "output_type": "execute_result"
    }
   ],
   "source": [
    "data['work_interfere'].value_counts()"
   ]
  },
  {
   "cell_type": "code",
   "execution_count": 48,
   "id": "c3f31f20",
   "metadata": {},
   "outputs": [
    {
     "data": {
      "image/png": "[encoded data removed]",
      "text/plain": [
       "<Figure size 1440x720 with 4 Axes>"
      ]
     },
     "metadata": {},
     "output_type": "display_data"
    }
   ],
   "source": [
    "figure = plt.figure(figsize=[20, 10])\n",
    "\n",
    "plt.subplot(1,4,1)\n",
    "data['treatment'][data['work_interfere'] == 'Sometimes'].value_counts().plot(kind='pie', autopct='%1.1f%%', wedgeprops = dict(width = 0.20), startangle=90)\n",
    "plt.title(label='work_interfere = Sometimes', size=16)\n",
    "\n",
    "plt.subplot(1,4,2)\n",
    "data['treatment'][data['work_interfere'] == 'Never'].value_counts().plot.pie(autopct='%1.1f%%',wedgeprops = dict(width = 0.20), startangle=90)\n",
    "plt.title(label='work_interfere = Never', size=16)\n",
    "\n",
    "plt.subplot(1,4,3)\n",
    "data['treatment'][data['work_interfere'] == 'Rarely'].value_counts().plot(kind='pie', autopct='%1.1f%%', wedgeprops = dict(width = 0.20), startangle=90)\n",
    "plt.title(label='work_interfere = Rarely', size=16)\n",
    "\n",
    "plt.subplot(1,4,4)\n",
    "data['treatment'][data['work_interfere'] == 'Often'].value_counts().plot.pie(autopct='%1.1f%%',wedgeprops = dict(width = 0.20), startangle=90)\n",
    "plt.title(label='work_interfere = Often', size=16)\n",
    "\n",
    "plt.show()"
   ]
  },
  {
   "cell_type": "markdown",
   "id": "fdbf1151",
   "metadata": {},
   "source": [
    "- We can observe that employees who are more **'Often'** & **'Rarely'** interfered during work are likely to have Mental health issues and hence are seeking Treatment."
   ]
  },
  {
   "cell_type": "markdown",
   "id": "206cbaa1",
   "metadata": {},
   "source": [
    "**Q.** Do individuals show a greater willingness to seek treatment for mental health issues if there is a family history of such conditions?"
   ]
  },
  {
   "cell_type": "code",
   "execution_count": 49,
   "id": "fee7472c",
   "metadata": {},
   "outputs": [
    {
     "data": {
      "text/plain": [
       "No     767\n",
       "Yes    490\n",
       "Name: family_history, dtype: int64"
      ]
     },
     "execution_count": 49,
     "metadata": {},
     "output_type": "execute_result"
    }
   ],
   "source": [
    "data['family_history'].value_counts()"
   ]
  },
  {
   "cell_type": "code",
   "execution_count": 50,
   "id": "3758d198",
   "metadata": {},
   "outputs": [
    {
     "data": {
      "text/plain": [
       "family_history\n",
       "No     495\n",
       "Yes    127\n",
       "Name: family_history, dtype: int64"
      ]
     },
     "execution_count": 50,
     "metadata": {},
     "output_type": "execute_result"
    }
   ],
   "source": [
    "data.groupby(['treatment','family_history'])['family_history'].count()['No']"
   ]
  },
  {
   "cell_type": "code",
   "execution_count": 51,
   "id": "6d70183a",
   "metadata": {},
   "outputs": [
    {
     "data": {
      "text/plain": [
       "family_history\n",
       "No     272\n",
       "Yes    363\n",
       "Name: family_history, dtype: int64"
      ]
     },
     "execution_count": 51,
     "metadata": {},
     "output_type": "execute_result"
    }
   ],
   "source": [
    "data.groupby(['treatment','family_history'])['family_history'].count()['Yes']"
   ]
  },
  {
   "cell_type": "code",
   "execution_count": 52,
   "id": "bbc4bd03",
   "metadata": {},
   "outputs": [
    {
     "data": {
      "image/png": "[encoded data removed]",
      "text/plain": [
       "<Figure size 1080x576 with 2 Axes>"
      ]
     },
     "metadata": {
      "needs_background": "light"
     },
     "output_type": "display_data"
    }
   ],
   "source": [
    "figure = plt.figure(figsize=[15, 8])\n",
    "\n",
    "plt.subplot(1,2,1)\n",
    "data.groupby(['treatment','family_history'])['family_history'].count()['No'].plot.bar(color='lightcoral')\n",
    "plt.xticks(size=12)\n",
    "plt.yticks(size=12)\n",
    "plt.xlabel(xlabel='Family_history - No', size=14)\n",
    "plt.ylabel(ylabel='Undergone Treatment', size=14)\n",
    "plt.title(label='Treatment vs Family History', size=16)\n",
    "\n",
    "plt.subplot(1,2,2)\n",
    "data.groupby(['treatment','family_history'])['family_history'].count()['Yes'].plot.bar(color='seagreen')\n",
    "plt.xticks(size=12)\n",
    "plt.yticks(size=12)\n",
    "plt.xlabel(xlabel='Family_history - Yes', size=14)\n",
    "plt.ylabel(ylabel='Undergone Treatment', size=14)\n",
    "plt.title(label='Treatment vs Family History', size=16)\n",
    "\n",
    "\n",
    "plt.show()"
   ]
  },
  {
   "cell_type": "markdown",
   "id": "b7e2a412",
   "metadata": {},
   "source": [
    "- We observe that employees with a **family history** of mental health issues are **more inclined** to choose **treatment**. \n",
    "- In contrast, employees without a family history of mental health issues may have **lower awareness** and, consequently, a reduced likelihood of seeking treatment."
   ]
  },
  {
   "cell_type": "markdown",
   "id": "590777a2",
   "metadata": {},
   "source": [
    "**Q.** What is the association between treatment and employee count in a company?"
   ]
  },
  {
   "cell_type": "code",
   "execution_count": 53,
   "id": "8eacff4e",
   "metadata": {},
   "outputs": [
    {
     "data": {
      "text/plain": [
       "Yes    635\n",
       "No     622\n",
       "Name: treatment, dtype: int64"
      ]
     },
     "execution_count": 53,
     "metadata": {},
     "output_type": "execute_result"
    }
   ],
   "source": [
    "data['treatment'].value_counts()"
   ]
  },
  {
   "cell_type": "code",
   "execution_count": 54,
   "id": "9be11221",
   "metadata": {},
   "outputs": [
    {
     "data": {
      "text/plain": [
       "6-25              290\n",
       "26-100            289\n",
       "More than 1000    282\n",
       "100-500           176\n",
       "1-5               160\n",
       "500-1000           60\n",
       "Name: no_employees, dtype: int64"
      ]
     },
     "execution_count": 54,
     "metadata": {},
     "output_type": "execute_result"
    }
   ],
   "source": [
    "data['no_employees'].value_counts()"
   ]
  },
  {
   "cell_type": "code",
   "execution_count": 55,
   "id": "3273c904",
   "metadata": {},
   "outputs": [
    {
     "data": {
      "text/plain": [
       "26-100            150\n",
       "More than 1000    146\n",
       "6-25              128\n",
       "100-500            95\n",
       "1-5                89\n",
       "500-1000           27\n",
       "Name: no_employees, dtype: int64"
      ]
     },
     "execution_count": 55,
     "metadata": {},
     "output_type": "execute_result"
    }
   ],
   "source": [
    "data[data['treatment'] == 'Yes']['no_employees'].value_counts()"
   ]
  },
  {
   "cell_type": "code",
   "execution_count": 56,
   "id": "de8b29fa",
   "metadata": {},
   "outputs": [
    {
     "data": {
      "text/plain": [
       "6-25              162\n",
       "26-100            139\n",
       "More than 1000    136\n",
       "100-500            81\n",
       "1-5                71\n",
       "500-1000           33\n",
       "Name: no_employees, dtype: int64"
      ]
     },
     "execution_count": 56,
     "metadata": {},
     "output_type": "execute_result"
    }
   ],
   "source": [
    "data[data['treatment'] == 'No']['no_employees'].value_counts()"
   ]
  },
  {
   "cell_type": "code",
   "execution_count": 57,
   "id": "9cc28998",
   "metadata": {},
   "outputs": [
    {
     "data": {
      "image/png": "[encoded data removed]",
      "text/plain": [
       "<Figure size 1080x576 with 2 Axes>"
      ]
     },
     "metadata": {
      "needs_background": "light"
     },
     "output_type": "display_data"
    }
   ],
   "source": [
    "figure = plt.figure(figsize=(15,8))\n",
    "\n",
    "plt.subplot(1,2,1)\n",
    "\n",
    "data[data['treatment'] == 'Yes']['no_employees'].value_counts().plot.bar(color='seagreen')\n",
    "\n",
    "plt.xticks(size=12)\n",
    "plt.yticks(size=12)\n",
    "plt.xlabel(xlabel='Employee Count', size=14)\n",
    "plt.ylabel(ylabel='Treatment', size=14)\n",
    "plt.title(label='Treatment - Yes', size=16)\n",
    "\n",
    "\n",
    "plt.subplot(1,2,2)\n",
    "\n",
    "data[data['treatment'] == 'No']['no_employees'].value_counts().plot.bar(color='salmon')\n",
    "\n",
    "plt.xticks(size=12)\n",
    "plt.yticks(size=12)\n",
    "plt.xlabel(xlabel='Employee Count', size=14)\n",
    "plt.ylabel(ylabel='Treatment', size=14)\n",
    "plt.title(label='Treatment - No', size=16)\n",
    "\n",
    "plt.show()"
   ]
  },
  {
   "cell_type": "code",
   "execution_count": 58,
   "id": "b29b42b8",
   "metadata": {},
   "outputs": [
    {
     "data": {
      "image/png": "[encoded data removed]",
      "text/plain": [
       "<Figure size 1080x576 with 1 Axes>"
      ]
     },
     "metadata": {
      "needs_background": "light"
     },
     "output_type": "display_data"
    }
   ],
   "source": [
    "figure = plt.figure(figsize=[15, 8])\n",
    "\n",
    "sns.countplot(x = 'no_employees', hue ='treatment', data=data)\n",
    "\n",
    "plt.xticks(size=14)\n",
    "plt.yticks(size=14)\n",
    "\n",
    "plt.xlabel(xlabel ='Employee Count', size=14)\n",
    "plt.ylabel(ylabel ='Frequency', size=14)\n",
    "plt.title(label ='Employee Count vs Treatment', size=16)\n",
    "\n",
    "plt.show()"
   ]
  },
  {
   "cell_type": "markdown",
   "id": "b187f7c3",
   "metadata": {},
   "source": [
    "- Based on the data, it can be inferred that the highest number of employees who sought mental health treatment belong to companies sized between **26-100** employees. \n",
    "- Conversely, the largest number of employees who did not seek treatment come from companies sized between **6-25** employees."
   ]
  },
  {
   "cell_type": "markdown",
   "id": "ba8d8d1d",
   "metadata": {},
   "source": [
    "**Q.** Top 10 Countries recorded for mental health treatment?"
   ]
  },
  {
   "cell_type": "code",
   "execution_count": 59,
   "id": "9357ad21",
   "metadata": {},
   "outputs": [
    {
     "data": {
      "image/png": "[encoded data removed]",
      "text/plain": [
       "<Figure size 1080x576 with 1 Axes>"
      ]
     },
     "metadata": {
      "needs_background": "light"
     },
     "output_type": "display_data"
    }
   ],
   "source": [
    "fig = plt.figure(figsize=[15,8])\n",
    "\n",
    "data['Country'].value_counts().head(10).plot.bar(color='purple')\n",
    "\n",
    "plt.xticks(rotation='vertical', size=14)\n",
    "plt.yticks(size=14)\n",
    "plt.xlabel(xlabel ='Top Countries', size=14)\n",
    "plt.ylabel(ylabel ='Frequency', size=14)\n",
    "plt.title(label ='Top 10 countries', size=16)\n",
    "\n",
    "plt.show()"
   ]
  },
  {
   "cell_type": "markdown",
   "id": "d0795d22",
   "metadata": {},
   "source": [
    "- The majority of the records are from the United States, followed by the United Kingdom and Canada."
   ]
  },
  {
   "cell_type": "markdown",
   "id": "43dfe471",
   "metadata": {},
   "source": [
    "**Q.** Which countries are actually contributing more for mental health treatment?"
   ]
  },
  {
   "cell_type": "code",
   "execution_count": 60,
   "id": "c6d61416",
   "metadata": {},
   "outputs": [
    {
     "data": {
      "image/png": "[encoded data removed]",
      "text/plain": [
       "<Figure size 1080x576 with 1 Axes>"
      ]
     },
     "metadata": {
      "needs_background": "light"
     },
     "output_type": "display_data"
    }
   ],
   "source": [
    "fig = plt.figure(figsize=[15,8])\n",
    "\n",
    "data[data['treatment']== 'Yes']['Country'].value_counts().head(10).plot.bar(color='seagreen')\n",
    "\n",
    "plt.xticks(rotation='vertical', size=14)\n",
    "plt.yticks(size=14)\n",
    "plt.xlabel(xlabel ='Top 10 Countries', size=14)\n",
    "plt.ylabel(ylabel ='Frequency', size=14)\n",
    "plt.title(label ='Top 10 countries - Treating Mental Health Issues', size=16)\n",
    "\n",
    "plt.show()"
   ]
  },
  {
   "cell_type": "markdown",
   "id": "0988db2b",
   "metadata": {},
   "source": [
    "- We observe a shift in the lower section of the bar chart, indicating countries where a **larger number** of individuals are seeking treatment for their mental health."
   ]
  },
  {
   "cell_type": "code",
   "execution_count": 61,
   "id": "df41e983",
   "metadata": {},
   "outputs": [
    {
     "data": {
      "image/png": "[encoded data removed]",
      "text/plain": [
       "<Figure size 1080x576 with 1 Axes>"
      ]
     },
     "metadata": {
      "needs_background": "light"
     },
     "output_type": "display_data"
    }
   ],
   "source": [
    "fig = plt.figure(figsize=[15,8])\n",
    "\n",
    "data[data['treatment']== 'No']['Country'].value_counts().head(10).plot.bar(color='lightcoral')\n",
    "\n",
    "plt.xticks(rotation='vertical', size=14)\n",
    "plt.yticks(size=14)\n",
    "plt.xlabel(xlabel ='Top 10 Countries', size=14)\n",
    "plt.ylabel(ylabel ='Frequency', size=14)\n",
    "plt.title(label ='Top 10 countries - Not treating Mental Health Issues', size=16)\n",
    "\n",
    "plt.show()"
   ]
  },
  {
   "cell_type": "markdown",
   "id": "326e638e",
   "metadata": {},
   "source": [
    "- Presented are the Top 10 countries where individuals are **least** inclined to seek treatment for their mental health concerns."
   ]
  },
  {
   "cell_type": "markdown",
   "id": "ed0144d5",
   "metadata": {},
   "source": [
    "- The data illustrates that the **United States**, **United Kingdom**, **Canada**, and **Germany** rank highest in both categories: **treating a significant number of individuals** with mental health issues and concurrently having the **highest number of untreated mental health cases**. This paradox within the statistics underscores the contradictory nature of our statement."
   ]
  },
  {
   "cell_type": "markdown",
   "id": "c7e47fe1",
   "metadata": {},
   "source": [
    "- To resolve the aforementioned paradox, let's conduct a comprehensive analysis focusing on the data distribution, specifically examining countries that meet the condition where **Treatment** equals **'Yes'** out of the **total values recorded**."
   ]
  },
  {
   "cell_type": "markdown",
   "id": "beeada5a",
   "metadata": {},
   "source": [
    "- **Let's calculate the ratio of observations from countries addressing mental health issues to the total number of countries included in the dataset.**"
   ]
  },
  {
   "cell_type": "code",
   "execution_count": 62,
   "id": "b0d58340",
   "metadata": {},
   "outputs": [
    {
     "data": {
      "text/plain": [
       "United States     409\n",
       "United Kingdom     93\n",
       "Canada             37\n",
       "Germany            21\n",
       "Ireland            13\n",
       "Australia          13\n",
       "Netherlands         9\n",
       "New Zealand         5\n",
       "South Africa        4\n",
       "Poland              4\n",
       "Name: Country, dtype: int64"
      ]
     },
     "execution_count": 62,
     "metadata": {},
     "output_type": "execute_result"
    }
   ],
   "source": [
    "df_yes = data[data['treatment']== 'Yes']['Country'].value_counts().head(10)\n",
    "df_yes.sort_values(ascending=False)"
   ]
  },
  {
   "cell_type": "code",
   "execution_count": 63,
   "id": "2eadadd3",
   "metadata": {},
   "outputs": [
    {
     "data": {
      "text/plain": [
       "United States     750\n",
       "United Kingdom    185\n",
       "Canada             72\n",
       "Germany            45\n",
       "Ireland            27\n",
       "Netherlands        27\n",
       "Australia          21\n",
       "France             13\n",
       "India              10\n",
       "New Zealand         8\n",
       "Name: Country, dtype: int64"
      ]
     },
     "execution_count": 63,
     "metadata": {},
     "output_type": "execute_result"
    }
   ],
   "source": [
    "data['Country'].value_counts().head(10)"
   ]
  },
  {
   "cell_type": "code",
   "execution_count": 64,
   "id": "c4c487b3",
   "metadata": {},
   "outputs": [
    {
     "data": {
      "text/plain": [
       "Australia        0.62\n",
       "Canada           0.51\n",
       "France            NaN\n",
       "Germany          0.47\n",
       "India             NaN\n",
       "Ireland          0.48\n",
       "Netherlands      0.33\n",
       "New Zealand      0.62\n",
       "Poland            NaN\n",
       "South Africa      NaN\n",
       "United Kingdom   0.50\n",
       "United States    0.55\n",
       "Name: Country, dtype: float64"
      ]
     },
     "execution_count": 64,
     "metadata": {},
     "output_type": "execute_result"
    }
   ],
   "source": [
    "df_yes.sort_values(ascending=False) / data['Country'].value_counts().head(10)"
   ]
  },
  {
   "cell_type": "code",
   "execution_count": 65,
   "id": "4e9a4a48",
   "metadata": {},
   "outputs": [
    {
     "data": {
      "text/plain": [
       "New Zealand      0.62\n",
       "Australia        0.62\n",
       "United States    0.55\n",
       "Canada           0.51\n",
       "United Kingdom   0.50\n",
       "Ireland          0.48\n",
       "Germany          0.47\n",
       "Netherlands      0.33\n",
       "Name: Country, dtype: float64"
      ]
     },
     "execution_count": 65,
     "metadata": {},
     "output_type": "execute_result"
    }
   ],
   "source": [
    "df_yt = df_yes.sort_values(ascending=False) / data['Country'].value_counts().head(10)\n",
    "df_yt.dropna().sort_values(ascending=False)"
   ]
  },
  {
   "cell_type": "code",
   "execution_count": 66,
   "id": "19f7be4d",
   "metadata": {},
   "outputs": [
    {
     "data": {
      "image/png": "[encoded data removed]",
      "text/plain": [
       "<Figure size 1080x576 with 1 Axes>"
      ]
     },
     "metadata": {
      "needs_background": "light"
     },
     "output_type": "display_data"
    }
   ],
   "source": [
    "fig = plt.figure(figsize=[15,8])\n",
    "\n",
    "df_yt.dropna().sort_values(ascending=False).plot.bar(color='navy')\n",
    "\n",
    "plt.xticks(rotation='vertical', size=14)\n",
    "plt.yticks(size=14)\n",
    "plt.xlabel(xlabel ='Top 10 Countries', size=14)\n",
    "plt.ylabel(ylabel ='Frequency', size=14)\n",
    "plt.title(label ='Top 10 countries - Actually focussing on Treating Mental Health issues', size=16)\n",
    "\n",
    "plt.show()"
   ]
  },
  {
   "cell_type": "markdown",
   "id": "66afed18",
   "metadata": {},
   "source": [
    "- These countries prioritize influencing a **significant proportion** of their population to address mental health issues, considering the total number of reported issues.\n",
    "- **New Zealand** & **Australia** top the list, followed by United States & Canada."
   ]
  },
  {
   "cell_type": "markdown",
   "id": "97f3f656",
   "metadata": {},
   "source": [
    "**Q.** What is the contribution of top 3 countries among all in terms of mental health?"
   ]
  },
  {
   "cell_type": "code",
   "execution_count": 67,
   "id": "bf98a06f",
   "metadata": {},
   "outputs": [
    {
     "data": {
      "text/plain": [
       "United States     750\n",
       "United Kingdom    185\n",
       "Canada             72\n",
       "Name: Country, dtype: int64"
      ]
     },
     "execution_count": 67,
     "metadata": {},
     "output_type": "execute_result"
    }
   ],
   "source": [
    "data['Country'].value_counts()[:3]"
   ]
  },
  {
   "cell_type": "code",
   "execution_count": 68,
   "id": "db5ebfa7",
   "metadata": {},
   "outputs": [
    {
     "data": {
      "text/plain": [
       "['United States', 'United Kingdom', 'Canada']"
      ]
     },
     "execution_count": 68,
     "metadata": {},
     "output_type": "execute_result"
    }
   ],
   "source": [
    "list(data['Country'].value_counts()[:3].index)"
   ]
  },
  {
   "cell_type": "code",
   "execution_count": 69,
   "id": "96c9a3d8",
   "metadata": {},
   "outputs": [
    {
     "data": {
      "text/html": [
       "<div>\n",
       "<style scoped>\n",
       "    .dataframe tbody tr th:only-of-type {\n",
       "        vertical-align: middle;\n",
       "    }\n",
       "\n",
       "    .dataframe tbody tr th {\n",
       "        vertical-align: top;\n",
       "    }\n",
       "\n",
       "    .dataframe thead th {\n",
       "        text-align: right;\n",
       "    }\n",
       "</style>\n",
       "<table border=\"1\" class=\"dataframe\">\n",
       "  <thead>\n",
       "    <tr style=\"text-align: right;\">\n",
       "      <th></th>\n",
       "      <th>Timestamp</th>\n",
       "      <th>Age</th>\n",
       "      <th>Gender</th>\n",
       "      <th>Country</th>\n",
       "      <th>self_employed</th>\n",
       "      <th>family_history</th>\n",
       "      <th>treatment</th>\n",
       "      <th>work_interfere</th>\n",
       "      <th>no_employees</th>\n",
       "      <th>remote_work</th>\n",
       "      <th>...</th>\n",
       "      <th>anonymity</th>\n",
       "      <th>leave</th>\n",
       "      <th>mental_health_consequence</th>\n",
       "      <th>phys_health_consequence</th>\n",
       "      <th>coworkers</th>\n",
       "      <th>supervisor</th>\n",
       "      <th>mental_health_interview</th>\n",
       "      <th>phys_health_interview</th>\n",
       "      <th>mental_vs_physical</th>\n",
       "      <th>obs_consequence</th>\n",
       "    </tr>\n",
       "  </thead>\n",
       "  <tbody>\n",
       "    <tr>\n",
       "      <th>0</th>\n",
       "      <td>2014-08-27 11:29:31</td>\n",
       "      <td>37</td>\n",
       "      <td>female</td>\n",
       "      <td>United States</td>\n",
       "      <td>No</td>\n",
       "      <td>No</td>\n",
       "      <td>Yes</td>\n",
       "      <td>Often</td>\n",
       "      <td>6-25</td>\n",
       "      <td>No</td>\n",
       "      <td>...</td>\n",
       "      <td>Yes</td>\n",
       "      <td>Somewhat easy</td>\n",
       "      <td>No</td>\n",
       "      <td>No</td>\n",
       "      <td>Some of them</td>\n",
       "      <td>Yes</td>\n",
       "      <td>No</td>\n",
       "      <td>Maybe</td>\n",
       "      <td>Yes</td>\n",
       "      <td>No</td>\n",
       "    </tr>\n",
       "    <tr>\n",
       "      <th>1</th>\n",
       "      <td>2014-08-27 11:29:37</td>\n",
       "      <td>44</td>\n",
       "      <td>male</td>\n",
       "      <td>United States</td>\n",
       "      <td>No</td>\n",
       "      <td>No</td>\n",
       "      <td>No</td>\n",
       "      <td>Rarely</td>\n",
       "      <td>More than 1000</td>\n",
       "      <td>No</td>\n",
       "      <td>...</td>\n",
       "      <td>Don't know</td>\n",
       "      <td>Don't know</td>\n",
       "      <td>Maybe</td>\n",
       "      <td>No</td>\n",
       "      <td>No</td>\n",
       "      <td>No</td>\n",
       "      <td>No</td>\n",
       "      <td>No</td>\n",
       "      <td>Don't know</td>\n",
       "      <td>No</td>\n",
       "    </tr>\n",
       "    <tr>\n",
       "      <th>2</th>\n",
       "      <td>2014-08-27 11:29:44</td>\n",
       "      <td>32</td>\n",
       "      <td>male</td>\n",
       "      <td>Canada</td>\n",
       "      <td>No</td>\n",
       "      <td>No</td>\n",
       "      <td>No</td>\n",
       "      <td>Rarely</td>\n",
       "      <td>6-25</td>\n",
       "      <td>No</td>\n",
       "      <td>...</td>\n",
       "      <td>Don't know</td>\n",
       "      <td>Somewhat difficult</td>\n",
       "      <td>No</td>\n",
       "      <td>No</td>\n",
       "      <td>Yes</td>\n",
       "      <td>Yes</td>\n",
       "      <td>Yes</td>\n",
       "      <td>Yes</td>\n",
       "      <td>No</td>\n",
       "      <td>No</td>\n",
       "    </tr>\n",
       "    <tr>\n",
       "      <th>3</th>\n",
       "      <td>2014-08-27 11:29:46</td>\n",
       "      <td>31</td>\n",
       "      <td>male</td>\n",
       "      <td>United Kingdom</td>\n",
       "      <td>No</td>\n",
       "      <td>Yes</td>\n",
       "      <td>Yes</td>\n",
       "      <td>Often</td>\n",
       "      <td>26-100</td>\n",
       "      <td>No</td>\n",
       "      <td>...</td>\n",
       "      <td>No</td>\n",
       "      <td>Somewhat difficult</td>\n",
       "      <td>Yes</td>\n",
       "      <td>Yes</td>\n",
       "      <td>Some of them</td>\n",
       "      <td>No</td>\n",
       "      <td>Maybe</td>\n",
       "      <td>Maybe</td>\n",
       "      <td>No</td>\n",
       "      <td>Yes</td>\n",
       "    </tr>\n",
       "    <tr>\n",
       "      <th>4</th>\n",
       "      <td>2014-08-27 11:30:22</td>\n",
       "      <td>31</td>\n",
       "      <td>male</td>\n",
       "      <td>United States</td>\n",
       "      <td>No</td>\n",
       "      <td>No</td>\n",
       "      <td>No</td>\n",
       "      <td>Never</td>\n",
       "      <td>100-500</td>\n",
       "      <td>Yes</td>\n",
       "      <td>...</td>\n",
       "      <td>Don't know</td>\n",
       "      <td>Don't know</td>\n",
       "      <td>No</td>\n",
       "      <td>No</td>\n",
       "      <td>Some of them</td>\n",
       "      <td>Yes</td>\n",
       "      <td>Yes</td>\n",
       "      <td>Yes</td>\n",
       "      <td>Don't know</td>\n",
       "      <td>No</td>\n",
       "    </tr>\n",
       "  </tbody>\n",
       "</table>\n",
       "<p>5 rows × 25 columns</p>\n",
       "</div>"
      ],
      "text/plain": [
       "            Timestamp  Age  Gender         Country self_employed  \\\n",
       "0 2014-08-27 11:29:31   37  female   United States            No   \n",
       "1 2014-08-27 11:29:37   44    male   United States            No   \n",
       "2 2014-08-27 11:29:44   32    male          Canada            No   \n",
       "3 2014-08-27 11:29:46   31    male  United Kingdom            No   \n",
       "4 2014-08-27 11:30:22   31    male   United States            No   \n",
       "\n",
       "  family_history treatment work_interfere    no_employees remote_work  ...  \\\n",
       "0             No       Yes          Often            6-25          No  ...   \n",
       "1             No        No         Rarely  More than 1000          No  ...   \n",
       "2             No        No         Rarely            6-25          No  ...   \n",
       "3            Yes       Yes          Often          26-100          No  ...   \n",
       "4             No        No          Never         100-500         Yes  ...   \n",
       "\n",
       "    anonymity               leave mental_health_consequence  \\\n",
       "0         Yes       Somewhat easy                        No   \n",
       "1  Don't know          Don't know                     Maybe   \n",
       "2  Don't know  Somewhat difficult                        No   \n",
       "3          No  Somewhat difficult                       Yes   \n",
       "4  Don't know          Don't know                        No   \n",
       "\n",
       "  phys_health_consequence     coworkers supervisor mental_health_interview  \\\n",
       "0                      No  Some of them        Yes                      No   \n",
       "1                      No            No         No                      No   \n",
       "2                      No           Yes        Yes                     Yes   \n",
       "3                     Yes  Some of them         No                   Maybe   \n",
       "4                      No  Some of them        Yes                     Yes   \n",
       "\n",
       "  phys_health_interview mental_vs_physical obs_consequence  \n",
       "0                 Maybe                Yes              No  \n",
       "1                    No         Don't know              No  \n",
       "2                   Yes                 No              No  \n",
       "3                 Maybe                 No             Yes  \n",
       "4                   Yes         Don't know              No  \n",
       "\n",
       "[5 rows x 25 columns]"
      ]
     },
     "execution_count": 69,
     "metadata": {},
     "output_type": "execute_result"
    }
   ],
   "source": [
    "data_top3 = data[data['Country'].isin(list(data['Country'].value_counts()[:3].index))]\n",
    "data_top3.head()"
   ]
  },
  {
   "cell_type": "code",
   "execution_count": 70,
   "id": "5148f895",
   "metadata": {},
   "outputs": [
    {
     "data": {
      "text/plain": [
       "(1007, 25)"
      ]
     },
     "execution_count": 70,
     "metadata": {},
     "output_type": "execute_result"
    }
   ],
   "source": [
    "data_top3.shape"
   ]
  },
  {
   "cell_type": "code",
   "execution_count": 71,
   "id": "141e8edf",
   "metadata": {},
   "outputs": [
    {
     "name": "stdout",
     "output_type": "stream",
     "text": [
      "The number of people that exist from top 3 countries are:  1007\n",
      "Their proportion from total people surveyed is  0.8\n"
     ]
    }
   ],
   "source": [
    "# Display the results\n",
    "\n",
    "print('The number of people that exist from top 3 countries are: ', data_top3.shape[0])\n",
    "print('Their proportion from total people surveyed is ', np.round(data_top3.shape[0]/data.shape[0], decimals=2))"
   ]
  },
  {
   "cell_type": "markdown",
   "id": "68a9671b",
   "metadata": {},
   "source": [
    "**Q.** How many people did go for treatment based on gender for the top 3 countries?"
   ]
  },
  {
   "cell_type": "code",
   "execution_count": 72,
   "id": "c62f6898",
   "metadata": {},
   "outputs": [
    {
     "data": {
      "image/png": "[encoded data removed]",
      "text/plain": [
       "<Figure size 1440x720 with 3 Axes>"
      ]
     },
     "metadata": {},
     "output_type": "display_data"
    }
   ],
   "source": [
    "fig = plt.figure(figsize=[20,10])\n",
    "\n",
    "plt.subplot(1,3,1)\n",
    "data_top3['treatment'][data_top3['Gender'] == 'male'].value_counts().plot(kind='pie', autopct='%1.1f%%', wedgeprops = dict(width = 0.15), startangle=90)\n",
    "plt.title(label='Treatment in Males', size=16)\n",
    "\n",
    "plt.subplot(1,3,2)\n",
    "data_top3['treatment'][data_top3['Gender'] == 'female'].value_counts().plot.pie(autopct='%1.1f%%', wedgeprops = dict(width = 0.15), startangle=90)\n",
    "plt.title(label='Treatment in Females', size=16)\n",
    "\n",
    "plt.subplot(1,3,3)\n",
    "data_top3['treatment'][data_top3['Gender'] == 'trans'].value_counts().plot.pie(autopct='%1.1f%%', wedgeprops = dict(width = 0.15), startangle=90)\n",
    "plt.title(label='Treatment in Trans', size=16)\n",
    "\n",
    "plt.show()"
   ]
  },
  {
   "cell_type": "markdown",
   "id": "09f73206",
   "metadata": {},
   "source": [
    "- **48%** of Males, **71%** of Females and **80%** of Trans, have gone through treatment among the top 3 countries."
   ]
  },
  {
   "cell_type": "markdown",
   "id": "e29c5ea2",
   "metadata": {},
   "source": [
    "**Q.** What is the frequency distribution of work interference among employees for the top 3 countries?"
   ]
  },
  {
   "cell_type": "code",
   "execution_count": 73,
   "id": "a671fda8",
   "metadata": {},
   "outputs": [
    {
     "data": {
      "text/plain": [
       "Sometimes    586\n",
       "Never        173\n",
       "Rarely       139\n",
       "Often        109\n",
       "Name: work_interfere, dtype: int64"
      ]
     },
     "execution_count": 73,
     "metadata": {},
     "output_type": "execute_result"
    }
   ],
   "source": [
    "data_top3['work_interfere'].value_counts()"
   ]
  },
  {
   "cell_type": "code",
   "execution_count": 74,
   "id": "1d00d759",
   "metadata": {},
   "outputs": [
    {
     "data": {
      "image/png": "[encoded data removed]",
      "text/plain": [
       "<Figure size 1080x576 with 1 Axes>"
      ]
     },
     "metadata": {
      "needs_background": "light"
     },
     "output_type": "display_data"
    }
   ],
   "source": [
    "figure = plt.figure(figsize=(15,8))\n",
    "\n",
    "data_top3['work_interfere'].value_counts().plot.bar(color='indigo')\n",
    "\n",
    "plt.xticks(rotation=0, size=14)\n",
    "plt.yticks(size=14)\n",
    "plt.xlabel(xlabel= 'Work_Interference', size=14)\n",
    "plt.ylabel(ylabel='Frequency', size=14)\n",
    "plt.title(label= 'Frequency of Work_Interference for the Top 3 countries', size=16)\n",
    "plt.grid(True)\n",
    "\n",
    "plt.show()"
   ]
  },
  {
   "cell_type": "markdown",
   "id": "a33635fd",
   "metadata": {},
   "source": [
    "- The majority of individuals seeking treatment for their mental health issues experienced interference with their work at times."
   ]
  },
  {
   "cell_type": "markdown",
   "id": "45ffad1b",
   "metadata": {},
   "source": [
    "**Q.**  Relation between Treatment and Mental Health Consequence?"
   ]
  },
  {
   "cell_type": "markdown",
   "id": "489d48e8",
   "metadata": {},
   "source": [
    "'**mental_health_consequence** - Do you think that discussing a mental health issue with your employer would have negative consequences?'"
   ]
  },
  {
   "cell_type": "code",
   "execution_count": 75,
   "id": "6545741c",
   "metadata": {},
   "outputs": [
    {
     "data": {
      "text/plain": [
       "No       490\n",
       "Maybe    477\n",
       "Yes      290\n",
       "Name: mental_health_consequence, dtype: int64"
      ]
     },
     "execution_count": 75,
     "metadata": {},
     "output_type": "execute_result"
    }
   ],
   "source": [
    "data['mental_health_consequence'].value_counts()"
   ]
  },
  {
   "cell_type": "code",
   "execution_count": 76,
   "id": "717012d7",
   "metadata": {},
   "outputs": [
    {
     "data": {
      "text/plain": [
       "Maybe    253\n",
       "No       210\n",
       "Yes      172\n",
       "Name: mental_health_consequence, dtype: int64"
      ]
     },
     "execution_count": 76,
     "metadata": {},
     "output_type": "execute_result"
    }
   ],
   "source": [
    "data[data['treatment']=='Yes']['mental_health_consequence'].value_counts()"
   ]
  },
  {
   "cell_type": "code",
   "execution_count": 77,
   "id": "827e2c6c",
   "metadata": {},
   "outputs": [
    {
     "data": {
      "text/plain": [
       "No       280\n",
       "Maybe    224\n",
       "Yes      118\n",
       "Name: mental_health_consequence, dtype: int64"
      ]
     },
     "execution_count": 77,
     "metadata": {},
     "output_type": "execute_result"
    }
   ],
   "source": [
    "data[data['treatment']=='No']['mental_health_consequence'].value_counts()"
   ]
  },
  {
   "cell_type": "code",
   "execution_count": 78,
   "id": "6084bbb9",
   "metadata": {},
   "outputs": [
    {
     "data": {
      "image/png": "[encoded data removed]",
      "text/plain": [
       "<Figure size 1080x576 with 1 Axes>"
      ]
     },
     "metadata": {
      "needs_background": "light"
     },
     "output_type": "display_data"
    }
   ],
   "source": [
    "figure = plt.figure(figsize=(15,8))\n",
    "\n",
    "sns.countplot(data=data, x='mental_health_consequence', hue='treatment')\n",
    "\n",
    "plt.xticks(rotation=0, size=14)\n",
    "plt.yticks(size=14)\n",
    "plt.xlabel(xlabel= 'Work_Interference', size=14)\n",
    "plt.ylabel(ylabel='Frequency', size=14)\n",
    "plt.title(label= 'Frequency of Work_Interference for the Top 3 countries', size=16)\n",
    "plt.grid(True)\n",
    "\n",
    "plt.show()"
   ]
  },
  {
   "cell_type": "markdown",
   "id": "1666def9",
   "metadata": {},
   "source": [
    "- Individuals who anticipate negative consequences when discussing their mental health issues with their employers show a higher willingness to seek treatment for their issues."
   ]
  },
  {
   "cell_type": "markdown",
   "id": "120b4e1a",
   "metadata": {},
   "source": [
    "- Similarly, Individuals who feel comfortable discussing their mental health issues with their employers tend to show a lower willingness to seek treatment for their concerns."
   ]
  },
  {
   "cell_type": "markdown",
   "id": "871b4318",
   "metadata": {},
   "source": [
    "**Q.** What is the relationship between mental health consequences and the attitude?"
   ]
  },
  {
   "cell_type": "code",
   "execution_count": 79,
   "id": "14351195",
   "metadata": {},
   "outputs": [],
   "source": [
    "def attitude(x):\n",
    "  \"\"\"A custom function to map values in a feature.\"\"\"\n",
    "  \n",
    "  if x == 'No':\n",
    "    return 'Positive'\n",
    "  elif x == 'Yes':\n",
    "    return 'Negative'\n",
    "  elif x == 'Maybe':\n",
    "    return 'Moderate'\n",
    "  else:\n",
    "    return x"
   ]
  },
  {
   "cell_type": "code",
   "execution_count": 80,
   "id": "72fbbcc9",
   "metadata": {},
   "outputs": [
    {
     "data": {
      "text/plain": [
       "Positive    490\n",
       "Moderate    477\n",
       "Negative    290\n",
       "Name: attitudes, dtype: int64"
      ]
     },
     "execution_count": 80,
     "metadata": {},
     "output_type": "execute_result"
    }
   ],
   "source": [
    "data['attitudes'] = data['mental_health_consequence'].apply(attitude)\n",
    "data['attitudes'].value_counts()"
   ]
  },
  {
   "cell_type": "code",
   "execution_count": 81,
   "id": "6e768f6a",
   "metadata": {},
   "outputs": [
    {
     "data": {
      "image/png": "[encoded data removed]",
      "text/plain": [
       "<Figure size 1080x576 with 1 Axes>"
      ]
     },
     "metadata": {
      "needs_background": "light"
     },
     "output_type": "display_data"
    }
   ],
   "source": [
    "figure = plt.figure(figsize=[15, 8])\n",
    "\n",
    "sns.countplot(y='attitudes', data=data)\n",
    "\n",
    "plt.title(label='Attitude Concerning Mental Health Consequences', size=16)\n",
    "plt.xlabel(xlabel='Frequency', size=14)\n",
    "plt.ylabel(ylabel='Attitude', size=14)\n",
    "plt.xticks(size=12)\n",
    "plt.yticks(size=12)\n",
    "#plt.grid(b=True)\n",
    "\n",
    "plt.show()"
   ]
  },
  {
   "cell_type": "markdown",
   "id": "d591926a",
   "metadata": {},
   "source": [
    "- The majority of individuals perceive their employers' attitudes to be more **positive** or **moderately supportive** rather than negative when addressing their mental health concerns."
   ]
  },
  {
   "cell_type": "markdown",
   "id": "347270cb",
   "metadata": {},
   "source": [
    "**Q.**  How does age relate to various behaviors and/or their awareness of their employer's attitude toward mental health?"
   ]
  },
  {
   "cell_type": "code",
   "execution_count": 82,
   "id": "13687386",
   "metadata": {},
   "outputs": [
    {
     "data": {
      "image/png": "[encoded data removed]",
      "text/plain": [
       "<Figure size 1080x576 with 1 Axes>"
      ]
     },
     "metadata": {
      "needs_background": "light"
     },
     "output_type": "display_data"
    }
   ],
   "source": [
    "fig = plt.figure(figsize=(15, 8))\n",
    "\n",
    "sns.countplot(x='Age', hue='attitudes', data=data)\n",
    "\n",
    "plt.title(label=\"Age vs Employers' Attitudes\", size=16)\n",
    "plt.xlabel(xlabel='Age', size=14)\n",
    "plt.ylabel(ylabel='Attitudes', size=14)\n",
    "plt.xticks(size=12)\n",
    "plt.yticks(size=12)\n",
    "#plt.grid(b=True)\n",
    "\n",
    "plt.show()"
   ]
  },
  {
   "cell_type": "markdown",
   "id": "2917b195",
   "metadata": {},
   "source": [
    "- This suggests that individuals in their **mid-20s** to **mid-30s** perceive their employers' attitude to be more positive or moderately supportive rather than negative when they discuss their mental health concerns."
   ]
  },
  {
   "cell_type": "markdown",
   "id": "a6128969",
   "metadata": {},
   "source": [
    "# 8. Summarization"
   ]
  },
  {
   "cell_type": "markdown",
   "id": "85be4275",
   "metadata": {},
   "source": [
    "- **Conclusion:**\n",
    "    - The mental health survey has helped us to understand the mental condition of employees working in tech firms across countries.\n",
    "\n",
    "    - A total of **1259** entries were recorded during the survey out of which **1007** were recorded from the top 3 countries.\n",
    "\n",
    "    - The **United States** leads the chart in terms of participation in the survey followed by the **United Kingdom** and **Canada**.\n",
    "\n",
    "    - **45%** OF males, **69%** of females, and **79%** of trans were found to have sought treatment concerning the overall survey.\n",
    "    \n",
    "    - Likewise, data indicates that **48%** of males, **71%** of females, and **80%** of trans individuals have received treatment within the top three countries in the recorded datase\n",
    "\n",
    "    - The following set of parameters are found to be affecting mental health the most and thus requires treatment:\n",
    "        - Age\n",
    "        - Family history,\n",
    "        - Work Interference,\n",
    "        - Number of employees working in a company,\n",
    "        \n",
    "    - **New Zealand** and **Australia** lead in prioritizing the resolution of employees' mental health issues, encouraging a higher number of individuals to seek treatment, followed by the **United States** and **Canada**."
   ]
  },
  {
   "cell_type": "markdown",
   "id": "2f82c77c",
   "metadata": {},
   "source": [
    "-  **Actionable Insights:**\n",
    "\n",
    "  - There should be an **awareness program** about mental health and its effects.\n",
    "  - Implementing an awareness program on mental health and its effects is crucial to encourage greater participation from **males**, considering their **lower** representation among the survey participants.\n",
    "\n",
    "  - Relationship Managers should provide supportive guidance to their employees.\n",
    "\n",
    "  - **Managers** and **Employers** need to maintain **unbiased** attitudes toward both the work and the employees, offering appropriate measures and support for those experiencing mental health challenges.\n",
    "  \n",
    "  - Regular **appreciation** at work is beneficial for employee well-being."
   ]
  },
  {
   "cell_type": "markdown",
   "id": "71e1dfda",
   "metadata": {},
   "source": [
    "\n",
    "# Prediction method"
   ]
  },
  {
   "cell_type": "markdown",
   "id": "e10214db",
   "metadata": {},
   "source": [
    "- To predict whether the employees is susceptible to have mental health issues & treatment is required, different\n",
    "  prediction models were implemented.\n"
   ]
  },
  {
   "cell_type": "markdown",
   "id": "7d560a86",
   "metadata": {},
   "source": [
    "- The predictions were obtained by classifying the employees into two classes namely: ‘diagnosed for mental health issue’\n",
    "  and ‘not diagnosed for mental health issue’. The classification was done based on the target variable, treatment (‘Has\n",
    "  the employee being diagnosed with a mental health condition’). 70% of the data set was used for training and 30% for\n",
    "  testing."
   ]
  },
  {
   "cell_type": "markdown",
   "id": "ea97ee3d",
   "metadata": {},
   "source": [
    "- Models tested include the GaussianNB, k-nearest neighbor (KNN) classifier, logistic regression, decision tree classifier,       random forest, and Gradient Boosting classifiers. In a supervised learning environment, these classifiers were\n",
    "  chosen based on their usefulness as small-data machine learning models and the effective- ness of earlier efforts for\n",
    "  similar understanding of the older OSMI data."
   ]
  },
  {
   "cell_type": "markdown",
   "id": "433cacce",
   "metadata": {},
   "source": [
    "# GaussianNB"
   ]
  },
  {
   "cell_type": "code",
   "execution_count": 83,
   "id": "58da263b",
   "metadata": {},
   "outputs": [],
   "source": [
    "import pandas as pd\n",
    "from sklearn.model_selection import train_test_split\n",
    "from sklearn.naive_bayes import GaussianNB\n",
    "from sklearn.metrics import accuracy_score, recall_score, precision_score, f1_score\n",
    "from sklearn.preprocessing import OneHotEncoder"
   ]
  },
  {
   "cell_type": "code",
   "execution_count": 84,
   "id": "e4aaa066",
   "metadata": {},
   "outputs": [],
   "source": [
    "data = pd.read_csv(\"C://Users//VENKAT//Downloads//survey.csv\")"
   ]
  },
  {
   "cell_type": "code",
   "execution_count": 85,
   "id": "fb418472",
   "metadata": {},
   "outputs": [],
   "source": [
    "# Assuming 'treatment' is the target variable\n",
    "X = data.drop('treatment', axis=1)\n",
    "y = data['treatment']"
   ]
  },
  {
   "cell_type": "code",
   "execution_count": 86,
   "id": "6e154a73",
   "metadata": {},
   "outputs": [],
   "source": [
    "data = data.drop(columns=['Timestamp', 'comments'])"
   ]
  },
  {
   "cell_type": "code",
   "execution_count": 87,
   "id": "86ed6c38",
   "metadata": {},
   "outputs": [],
   "source": [
    "categorical_columns = ['Gender', 'Country', 'state', 'self_employed', 'family_history', 'work_interfere', 'no_employees',\n",
    "                        'remote_work', 'tech_company', 'benefits', 'care_options', 'wellness_program', 'seek_help',\n",
    "                        'anonymity', 'leave', 'mental_health_consequence', 'phys_health_consequence', 'coworkers',\n",
    "                        'supervisor', 'mental_health_interview', 'phys_health_interview', 'mental_vs_physical', 'obs_consequence']"
   ]
  },
  {
   "cell_type": "code",
   "execution_count": 88,
   "id": "e09d68bb",
   "metadata": {},
   "outputs": [],
   "source": [
    "data = pd.get_dummies(data, columns=categorical_columns)"
   ]
  },
  {
   "cell_type": "code",
   "execution_count": 89,
   "id": "cae1f372",
   "metadata": {},
   "outputs": [],
   "source": [
    "X = data.drop('treatment', axis=1)\n",
    "y = data['treatment']"
   ]
  },
  {
   "cell_type": "code",
   "execution_count": 90,
   "id": "fea95317",
   "metadata": {},
   "outputs": [],
   "source": [
    "# Split the dataset into training and testing sets\n",
    "X_train, X_test, y_train, y_test = train_test_split(X, y, test_size=0.3, random_state=42)\n"
   ]
  },
  {
   "cell_type": "code",
   "execution_count": 91,
   "id": "bef67f89",
   "metadata": {},
   "outputs": [],
   "source": [
    "# Gaussian Naive Bayes classifier\n",
    "gnb = GaussianNB()\n",
    "gnb.fit(X_train, y_train)\n",
    "y_pred = gnb.predict(X_test)"
   ]
  },
  {
   "cell_type": "code",
   "execution_count": 92,
   "id": "6e0b05e7",
   "metadata": {},
   "outputs": [
    {
     "name": "stdout",
     "output_type": "stream",
     "text": [
      "Gaussian Naive Bayes Metrics:\n",
      "  Accuracy: 0.47883597883597884\n",
      "  Recall: 0.0\n",
      "  Precision: 0.0\n",
      "  F1 Score: 0.0\n"
     ]
    }
   ],
   "source": [
    "# Evaluate the Gaussian Naive Bayes classifier\n",
    "accuracy = accuracy_score(y_test, y_pred)\n",
    "recall = recall_score(y_test, y_pred, pos_label='Yes')\n",
    "precision = precision_score(y_test, y_pred, pos_label='Yes', labels=['No', 'Yes'])\n",
    "f1 = f1_score(y_test, y_pred, pos_label='Yes', labels=['No', 'Yes'])\n",
    "\n",
    "print(\"Gaussian Naive Bayes Metrics:\")\n",
    "print(f\"  Accuracy: {accuracy}\")\n",
    "print(f\"  Recall: {recall}\")\n",
    "print(f\"  Precision: {precision}\")\n",
    "print(f\"  F1 Score: {f1}\")\n"
   ]
  },
  {
   "cell_type": "markdown",
   "id": "b3f73508",
   "metadata": {},
   "source": [
    "# KNeighbors Classifier"
   ]
  },
  {
   "cell_type": "code",
   "execution_count": 93,
   "id": "b4439ee9",
   "metadata": {},
   "outputs": [],
   "source": [
    "# Import necessary libraries\n",
    "import pandas as pd\n",
    "from sklearn.model_selection import train_test_split\n",
    "from sklearn.neighbors import KNeighborsClassifier\n",
    "from sklearn.metrics import accuracy_score, recall_score, precision_score, f1_score"
   ]
  },
  {
   "cell_type": "code",
   "execution_count": 94,
   "id": "e195431a",
   "metadata": {},
   "outputs": [],
   "source": [
    "data = pd.read_csv(\"C://Users//VENKAT//Downloads//survey.csv\")"
   ]
  },
  {
   "cell_type": "code",
   "execution_count": 95,
   "id": "4e2564a5",
   "metadata": {},
   "outputs": [],
   "source": [
    "# Assuming 'treatment' is the target variable\n",
    "X = data.drop('treatment', axis=1)\n",
    "y = data['treatment']"
   ]
  },
  {
   "cell_type": "code",
   "execution_count": 96,
   "id": "063f22f6",
   "metadata": {},
   "outputs": [],
   "source": [
    "data = data.drop(columns=['Timestamp', 'comments'])"
   ]
  },
  {
   "cell_type": "code",
   "execution_count": 97,
   "id": "af1599e6",
   "metadata": {},
   "outputs": [],
   "source": [
    "categorical_columns = ['Gender', 'Country', 'state', 'self_employed', 'family_history', 'work_interfere', 'no_employees',\n",
    "                        'remote_work', 'tech_company', 'benefits', 'care_options', 'wellness_program', 'seek_help',\n",
    "                        'anonymity', 'leave', 'mental_health_consequence', 'phys_health_consequence', 'coworkers',\n",
    "                        'supervisor', 'mental_health_interview', 'phys_health_interview', 'mental_vs_physical', 'obs_consequence']"
   ]
  },
  {
   "cell_type": "code",
   "execution_count": 98,
   "id": "6b361364",
   "metadata": {},
   "outputs": [],
   "source": [
    "data = pd.get_dummies(data, columns=categorical_columns)"
   ]
  },
  {
   "cell_type": "code",
   "execution_count": 99,
   "id": "c7e54bd4",
   "metadata": {},
   "outputs": [],
   "source": [
    "X = data.drop('treatment', axis=1)\n",
    "y = data['treatment']"
   ]
  },
  {
   "cell_type": "code",
   "execution_count": 100,
   "id": "4de2661a",
   "metadata": {},
   "outputs": [],
   "source": [
    "# Split the dataset into training and testing sets\n",
    "X_train, X_test, y_train, y_test = train_test_split(X, y, test_size=0.3, random_state=42)"
   ]
  },
  {
   "cell_type": "code",
   "execution_count": 101,
   "id": "b2c24735",
   "metadata": {},
   "outputs": [],
   "source": [
    "# KNN classifier\n",
    "knn = KNeighborsClassifier(n_neighbors=5)  # You can adjust the number of neighbors (k) as needed\n",
    "knn.fit(X_train, y_train)\n",
    "y_pred = knn.predict(X_test)"
   ]
  },
  {
   "cell_type": "code",
   "execution_count": 102,
   "id": "702cf895",
   "metadata": {},
   "outputs": [
    {
     "name": "stdout",
     "output_type": "stream",
     "text": [
      " KNeighborsClassifier Metrics:\n",
      "  Accuracy: 0.6481481481481481\n",
      "  Recall: 0.5736040609137056\n",
      "  Precision: 0.6975308641975309\n",
      "  F1 Score: 0.6295264623955432\n"
     ]
    }
   ],
   "source": [
    "# Evaluate the KNN classifier\n",
    "accuracy = accuracy_score(y_test, y_pred)\n",
    "recall = recall_score(y_test, y_pred, pos_label='Yes')\n",
    "precision = precision_score(y_test, y_pred, pos_label='Yes', labels=['No', 'Yes'])\n",
    "f1 = f1_score(y_test, y_pred, pos_label='Yes', labels=['No', 'Yes'])\n",
    "\n",
    "print(\" KNeighborsClassifier Metrics:\")\n",
    "print(f\"  Accuracy: {accuracy}\")\n",
    "print(f\"  Recall: {recall}\")\n",
    "print(f\"  Precision: {precision}\")\n",
    "print(f\"  F1 Score: {f1}\")"
   ]
  },
  {
   "cell_type": "markdown",
   "id": "1690b8ad",
   "metadata": {},
   "source": [
    "# Random Forest Classifier"
   ]
  },
  {
   "cell_type": "code",
   "execution_count": 103,
   "id": "41e67d9c",
   "metadata": {},
   "outputs": [],
   "source": [
    "from sklearn.ensemble import RandomForestClassifier\n",
    "from sklearn.model_selection import train_test_split\n",
    "from sklearn.metrics import accuracy_score, recall_score, precision_score, f1_score\n",
    "import pandas as pd"
   ]
  },
  {
   "cell_type": "code",
   "execution_count": 104,
   "id": "4df0ef59",
   "metadata": {},
   "outputs": [],
   "source": [
    "data = pd.read_csv(\"C://Users//VENKAT//Downloads//survey.csv\")"
   ]
  },
  {
   "cell_type": "code",
   "execution_count": 105,
   "id": "ac80228d",
   "metadata": {},
   "outputs": [],
   "source": [
    "# Assuming 'treatment' is the target variable\n",
    "X = data.drop('treatment', axis=1)\n",
    "y = data['treatment']"
   ]
  },
  {
   "cell_type": "code",
   "execution_count": 106,
   "id": "223ef2be",
   "metadata": {},
   "outputs": [],
   "source": [
    "data = data.drop(columns=['Timestamp', 'comments'])"
   ]
  },
  {
   "cell_type": "code",
   "execution_count": 107,
   "id": "4ee70e22",
   "metadata": {},
   "outputs": [],
   "source": [
    "categorical_columns = ['Gender', 'Country', 'state', 'self_employed', 'family_history', 'work_interfere', 'no_employees',\n",
    "                        'remote_work', 'tech_company', 'benefits', 'care_options', 'wellness_program', 'seek_help',\n",
    "                        'anonymity', 'leave', 'mental_health_consequence', 'phys_health_consequence', 'coworkers',\n",
    "                        'supervisor', 'mental_health_interview', 'phys_health_interview', 'mental_vs_physical', 'obs_consequence']"
   ]
  },
  {
   "cell_type": "code",
   "execution_count": 108,
   "id": "d0085b3a",
   "metadata": {},
   "outputs": [],
   "source": [
    "data = pd.get_dummies(data, columns=categorical_columns)"
   ]
  },
  {
   "cell_type": "code",
   "execution_count": 109,
   "id": "cdcff14f",
   "metadata": {},
   "outputs": [],
   "source": [
    "X = data.drop('treatment', axis=1)\n",
    "y = data['treatment']"
   ]
  },
  {
   "cell_type": "code",
   "execution_count": 110,
   "id": "0757d5f2",
   "metadata": {},
   "outputs": [],
   "source": [
    "# Split the dataset into training and testing sets\n",
    "X_train, X_test, y_train, y_test = train_test_split(X, y, test_size=0.3, random_state=42)"
   ]
  },
  {
   "cell_type": "code",
   "execution_count": 111,
   "id": "d76de55b",
   "metadata": {},
   "outputs": [],
   "source": [
    "# Random Forest classifier\n",
    "rf_classifier = RandomForestClassifier(n_estimators=100, random_state=42)\n",
    "rf_classifier.fit(X_train, y_train)\n",
    "y_pred_rf = rf_classifier.predict(X_test)"
   ]
  },
  {
   "cell_type": "code",
   "execution_count": 112,
   "id": "cb614f23",
   "metadata": {},
   "outputs": [
    {
     "name": "stdout",
     "output_type": "stream",
     "text": [
      " Random Forest Metrics:\n",
      "  Accuracy: 0.8015873015873016\n",
      "  Recall: 0.8527918781725888\n",
      "  Precision: 0.7850467289719626\n",
      "  F1 Score: 0.8175182481751824\n"
     ]
    }
   ],
   "source": [
    "# Evaluate the Random Forest classifier\n",
    "accuracy = accuracy_score(y_test,y_pred_rf)\n",
    "recall = recall_score(y_test, y_pred_rf, pos_label='Yes')\n",
    "precision = precision_score(y_test, y_pred_rf, pos_label='Yes', labels=['No', 'Yes'])\n",
    "f1 = f1_score(y_test, y_pred_rf, pos_label='Yes', labels=['No', 'Yes'])\n",
    "\n",
    "print(\" Random Forest Metrics:\")\n",
    "print(f\"  Accuracy: {accuracy}\")\n",
    "print(f\"  Recall: {recall}\")\n",
    "print(f\"  Precision: {precision}\")\n",
    "print(f\"  F1 Score: {f1}\")"
   ]
  },
  {
   "cell_type": "markdown",
   "id": "6ad41715",
   "metadata": {},
   "source": [
    "# logistic regression\n"
   ]
  },
  {
   "cell_type": "code",
   "execution_count": 113,
   "id": "d632ebfa",
   "metadata": {},
   "outputs": [],
   "source": [
    "from sklearn.linear_model import LogisticRegression\n",
    "from sklearn.model_selection import train_test_split\n",
    "from sklearn.metrics import accuracy_score, recall_score, precision_score, f1_score\n",
    "import pandas as pd"
   ]
  },
  {
   "cell_type": "code",
   "execution_count": 114,
   "id": "54a15ad2",
   "metadata": {},
   "outputs": [],
   "source": [
    "data = pd.read_csv(\"C://Users//VENKAT//Downloads//survey.csv\")"
   ]
  },
  {
   "cell_type": "code",
   "execution_count": 115,
   "id": "707195e8",
   "metadata": {},
   "outputs": [],
   "source": [
    "# Assuming 'treatment' is the target variable\n",
    "X = data.drop('treatment', axis=1)\n",
    "y = data['treatment']"
   ]
  },
  {
   "cell_type": "code",
   "execution_count": 116,
   "id": "4f2fbe87",
   "metadata": {},
   "outputs": [],
   "source": [
    "data = data.drop(columns=['Timestamp', 'comments'])"
   ]
  },
  {
   "cell_type": "code",
   "execution_count": 117,
   "id": "3db0537a",
   "metadata": {},
   "outputs": [],
   "source": [
    "categorical_columns = ['Gender', 'Country', 'state', 'self_employed', 'family_history', 'work_interfere', 'no_employees',\n",
    "                        'remote_work', 'tech_company', 'benefits', 'care_options', 'wellness_program', 'seek_help',\n",
    "                        'anonymity', 'leave', 'mental_health_consequence', 'phys_health_consequence', 'coworkers',\n",
    "                        'supervisor', 'mental_health_interview', 'phys_health_interview', 'mental_vs_physical', 'obs_consequence']"
   ]
  },
  {
   "cell_type": "code",
   "execution_count": 118,
   "id": "83e954b3",
   "metadata": {},
   "outputs": [],
   "source": [
    "data = pd.get_dummies(data, columns=categorical_columns)"
   ]
  },
  {
   "cell_type": "code",
   "execution_count": 119,
   "id": "04a6327f",
   "metadata": {},
   "outputs": [],
   "source": [
    "X = data.drop('treatment', axis=1)\n",
    "y = data['treatment']"
   ]
  },
  {
   "cell_type": "code",
   "execution_count": 120,
   "id": "307ee1e3",
   "metadata": {},
   "outputs": [],
   "source": [
    "# Split the dataset into training and testing sets\n",
    "X_train, X_test, y_train, y_test = train_test_split(X, y, test_size=0.3, random_state=42)"
   ]
  },
  {
   "cell_type": "code",
   "execution_count": 121,
   "id": "33f4c4f5",
   "metadata": {},
   "outputs": [],
   "source": [
    "# Logistic Regression model\n",
    "logreg_model = LogisticRegression(random_state=42)\n",
    "logreg_model.fit(X_train, y_train)\n",
    "y_pred_logreg = logreg_model.predict(X_test)"
   ]
  },
  {
   "cell_type": "code",
   "execution_count": 122,
   "id": "3cae0e4c",
   "metadata": {},
   "outputs": [
    {
     "name": "stdout",
     "output_type": "stream",
     "text": [
      " Logistic Regression Metrics:\n",
      "  Accuracy: 0.8174603174603174\n",
      "  Recall: 0.868020304568528\n",
      "  Precision: 0.7990654205607477\n",
      "  F1 Score: 0.832116788321168\n"
     ]
    }
   ],
   "source": [
    "# Evaluate the Logistic Regression \n",
    "accuracy = accuracy_score(y_test,y_pred_logreg)\n",
    "recall = recall_score(y_test, y_pred_logreg, pos_label='Yes')\n",
    "precision = precision_score(y_test, y_pred_logreg, pos_label='Yes', labels=['No', 'Yes'])\n",
    "f1 = f1_score(y_test,y_pred_logreg, pos_label='Yes', labels=['No', 'Yes'])\n",
    "\n",
    "print(\" Logistic Regression Metrics:\")\n",
    "print(f\"  Accuracy: {accuracy}\")\n",
    "print(f\"  Recall: {recall}\")\n",
    "print(f\"  Precision: {precision}\")\n",
    "print(f\"  F1 Score: {f1}\")"
   ]
  },
  {
   "cell_type": "markdown",
   "id": "6c9f68d6",
   "metadata": {},
   "source": [
    "# Decision Tree"
   ]
  },
  {
   "cell_type": "code",
   "execution_count": 123,
   "id": "bd55fe54",
   "metadata": {},
   "outputs": [],
   "source": [
    "from sklearn.tree import DecisionTreeClassifier\n",
    "from sklearn.model_selection import train_test_split\n",
    "from sklearn.metrics import accuracy_score, recall_score, precision_score, f1_score\n",
    "import pandas as pd"
   ]
  },
  {
   "cell_type": "code",
   "execution_count": 124,
   "id": "f105beb7",
   "metadata": {},
   "outputs": [],
   "source": [
    "data = pd.read_csv(\"C://Users//VENKAT//Downloads//survey.csv\")"
   ]
  },
  {
   "cell_type": "code",
   "execution_count": 125,
   "id": "65adb31a",
   "metadata": {},
   "outputs": [],
   "source": [
    "# Assuming 'treatment' is the target variable\n",
    "X = data.drop('treatment', axis=1)\n",
    "y = data['treatment']"
   ]
  },
  {
   "cell_type": "code",
   "execution_count": 126,
   "id": "ca4de0c0",
   "metadata": {},
   "outputs": [],
   "source": [
    "data = data.drop(columns=['Timestamp', 'comments'])"
   ]
  },
  {
   "cell_type": "code",
   "execution_count": 127,
   "id": "72d28ce7",
   "metadata": {},
   "outputs": [],
   "source": [
    "categorical_columns = ['Gender', 'Country', 'state', 'self_employed', 'family_history', 'work_interfere', 'no_employees',\n",
    "                        'remote_work', 'tech_company', 'benefits', 'care_options', 'wellness_program', 'seek_help',\n",
    "                        'anonymity', 'leave', 'mental_health_consequence', 'phys_health_consequence', 'coworkers',\n",
    "                        'supervisor', 'mental_health_interview', 'phys_health_interview', 'mental_vs_physical', 'obs_consequence']"
   ]
  },
  {
   "cell_type": "code",
   "execution_count": 128,
   "id": "7b678834",
   "metadata": {},
   "outputs": [],
   "source": [
    "data = pd.get_dummies(data, columns=categorical_columns)"
   ]
  },
  {
   "cell_type": "code",
   "execution_count": 129,
   "id": "1417fe1e",
   "metadata": {},
   "outputs": [],
   "source": [
    "X = data.drop('treatment', axis=1)\n",
    "y = data['treatment']"
   ]
  },
  {
   "cell_type": "code",
   "execution_count": 130,
   "id": "8c3e02e8",
   "metadata": {},
   "outputs": [],
   "source": [
    "# Split the dataset into training and testing sets\n",
    "X_train, X_test, y_train, y_test = train_test_split(X, y, test_size=0.3, random_state=42)"
   ]
  },
  {
   "cell_type": "code",
   "execution_count": 131,
   "id": "08b4c640",
   "metadata": {},
   "outputs": [],
   "source": [
    "# Decision Tree model\n",
    "dt_model = DecisionTreeClassifier(random_state=42)\n",
    "dt_model.fit(X_train, y_train)\n",
    "y_pred_dt = dt_model.predict(X_test)\n"
   ]
  },
  {
   "cell_type": "code",
   "execution_count": 132,
   "id": "04259eac",
   "metadata": {},
   "outputs": [
    {
     "name": "stdout",
     "output_type": "stream",
     "text": [
      " Logistic Regression Metrics:\n",
      "  Accuracy: 0.7724867724867724\n",
      "  Recall: 0.7817258883248731\n",
      "  Precision: 0.7817258883248731\n",
      "  F1 Score: 0.7817258883248731\n"
     ]
    }
   ],
   "source": [
    "# Evaluate the Decision Tree model\n",
    "accuracy = accuracy_score(y_test,y_pred_dt)\n",
    "recall = recall_score(y_test,y_pred_dt, pos_label='Yes')\n",
    "precision = precision_score(y_test, y_pred_dt, pos_label='Yes', labels=['No', 'Yes'])\n",
    "f1 = f1_score(y_test,y_pred_dt, pos_label='Yes', labels=['No', 'Yes'])\n",
    "\n",
    "print(\" Logistic Regression Metrics:\")\n",
    "print(f\"  Accuracy: {accuracy}\")\n",
    "print(f\"  Recall: {recall}\")\n",
    "print(f\"  Precision: {precision}\")\n",
    "print(f\"  F1 Score: {f1}\")"
   ]
  },
  {
   "cell_type": "markdown",
   "id": "b1d3a117",
   "metadata": {},
   "source": [
    "# Gradient boost classifier"
   ]
  },
  {
   "cell_type": "code",
   "execution_count": 133,
   "id": "2c31a23d",
   "metadata": {},
   "outputs": [],
   "source": [
    "from sklearn.ensemble import GradientBoostingClassifier\n",
    "from sklearn.model_selection import train_test_split\n",
    "from sklearn.metrics import accuracy_score, recall_score, precision_score, f1_score\n",
    "import pandas as pd"
   ]
  },
  {
   "cell_type": "code",
   "execution_count": 134,
   "id": "856d2e50",
   "metadata": {},
   "outputs": [],
   "source": [
    "data = pd.read_csv(\"C://Users//VENKAT//Downloads//survey.csv\")"
   ]
  },
  {
   "cell_type": "code",
   "execution_count": 135,
   "id": "b12f17cc",
   "metadata": {},
   "outputs": [],
   "source": [
    "# Assuming 'treatment' is the target variable\n",
    "X = data.drop('treatment', axis=1)\n",
    "y = data['treatment']"
   ]
  },
  {
   "cell_type": "code",
   "execution_count": 136,
   "id": "697fe683",
   "metadata": {},
   "outputs": [],
   "source": [
    "data = data.drop(columns=['Timestamp', 'comments'])"
   ]
  },
  {
   "cell_type": "code",
   "execution_count": 137,
   "id": "9e101c28",
   "metadata": {},
   "outputs": [],
   "source": [
    "categorical_columns = ['Gender', 'Country', 'state', 'self_employed', 'family_history', 'work_interfere', 'no_employees',\n",
    "                        'remote_work', 'tech_company', 'benefits', 'care_options', 'wellness_program', 'seek_help',\n",
    "                        'anonymity', 'leave', 'mental_health_consequence', 'phys_health_consequence', 'coworkers',\n",
    "                        'supervisor', 'mental_health_interview', 'phys_health_interview', 'mental_vs_physical', 'obs_consequence']"
   ]
  },
  {
   "cell_type": "code",
   "execution_count": 138,
   "id": "71ebdc4f",
   "metadata": {},
   "outputs": [],
   "source": [
    "data = pd.get_dummies(data, columns=categorical_columns)"
   ]
  },
  {
   "cell_type": "code",
   "execution_count": 139,
   "id": "480d0fe5",
   "metadata": {},
   "outputs": [],
   "source": [
    "X = data.drop('treatment', axis=1)\n",
    "y = data['treatment']"
   ]
  },
  {
   "cell_type": "code",
   "execution_count": 140,
   "id": "dc410bc4",
   "metadata": {},
   "outputs": [],
   "source": [
    "# Split the dataset into training and testing sets\n",
    "X_train, X_test, y_train, y_test = train_test_split(X, y, test_size=0.3, random_state=42)"
   ]
  },
  {
   "cell_type": "code",
   "execution_count": 141,
   "id": "ff2a3dee",
   "metadata": {},
   "outputs": [],
   "source": [
    "# Gradient Boosting model\n",
    "gb_model = GradientBoostingClassifier(random_state=42)\n",
    "gb_model.fit(X_train, y_train)\n",
    "y_pred_gb = gb_model.predict(X_test)"
   ]
  },
  {
   "cell_type": "code",
   "execution_count": 142,
   "id": "4ae79c79",
   "metadata": {},
   "outputs": [
    {
     "name": "stdout",
     "output_type": "stream",
     "text": [
      " Gradient Boost Classifier Metrics:\n",
      "  Accuracy: 0.8227513227513228\n",
      "  Recall: 0.8984771573604061\n",
      "  Precision: 0.7901785714285714\n",
      "  F1 Score: 0.8408551068883611\n"
     ]
    }
   ],
   "source": [
    "# Evaluate the Gradient boost classifier\n",
    "accuracy = accuracy_score(y_test,y_pred_gb)\n",
    "recall = recall_score(y_test,y_pred_gb, pos_label='Yes')\n",
    "precision = precision_score(y_test, y_pred_gb, pos_label='Yes', labels=['No', 'Yes'])\n",
    "f1 = f1_score(y_test,y_pred_gb, pos_label='Yes', labels=['No', 'Yes'])\n",
    "\n",
    "print(\" Gradient Boost Classifier Metrics:\")\n",
    "print(f\"  Accuracy: {accuracy}\")\n",
    "print(f\"  Recall: {recall}\")\n",
    "print(f\"  Precision: {precision}\")\n",
    "print(f\"  F1 Score: {f1}\")"
   ]
  },
  {
   "cell_type": "markdown",
   "id": "7b42bfd6",
   "metadata": {},
   "source": [
    "# ALL CLASSIFIERS"
   ]
  },
  {
   "cell_type": "code",
   "execution_count": 143,
   "id": "0f4b10c0",
   "metadata": {},
   "outputs": [],
   "source": [
    "import pandas as pd\n",
    "from sklearn.model_selection import train_test_split\n",
    "from sklearn.ensemble import GradientBoostingClassifier, RandomForestClassifier\n",
    "from sklearn.ensemble import GradientBoostingClassifier, AdaBoostClassifier\n",
    "from sklearn.neighbors import KNeighborsClassifier\n",
    "from sklearn.naive_bayes import GaussianNB\n",
    "from sklearn.linear_model import LogisticRegression\n",
    "from sklearn.tree import DecisionTreeClassifier\n",
    "from sklearn.discriminant_analysis import LinearDiscriminantAnalysis as LDA\n",
    "from sklearn.discriminant_analysis import QuadraticDiscriminantAnalysis as QDA\n",
    "from sklearn.svm import SVC\n",
    "from sklearn.metrics import accuracy_score, recall_score, precision_score, f1_score"
   ]
  },
  {
   "cell_type": "code",
   "execution_count": 144,
   "id": "3763f016",
   "metadata": {},
   "outputs": [],
   "source": [
    "data = pd.read_csv(\"C://Users//VENKAT//Downloads//survey.csv\")"
   ]
  },
  {
   "cell_type": "code",
   "execution_count": 145,
   "id": "15378ef2",
   "metadata": {},
   "outputs": [],
   "source": [
    "# Assuming 'treatment' is the target variable\n",
    "X = data.drop('treatment', axis=1)\n",
    "y = data['treatment']"
   ]
  },
  {
   "cell_type": "code",
   "execution_count": 146,
   "id": "2ee0aa98",
   "metadata": {},
   "outputs": [],
   "source": [
    "data = data.drop(columns=['Timestamp', 'comments'])"
   ]
  },
  {
   "cell_type": "code",
   "execution_count": 147,
   "id": "09382895",
   "metadata": {},
   "outputs": [],
   "source": [
    "categorical_columns = ['Gender', 'Country', 'state', 'self_employed', 'family_history', 'work_interfere', 'no_employees',\n",
    "                        'remote_work', 'tech_company', 'benefits', 'care_options', 'wellness_program', 'seek_help',\n",
    "                        'anonymity', 'leave', 'mental_health_consequence', 'phys_health_consequence', 'coworkers',\n",
    "                        'supervisor', 'mental_health_interview', 'phys_health_interview', 'mental_vs_physical', 'obs_consequence']"
   ]
  },
  {
   "cell_type": "code",
   "execution_count": 148,
   "id": "9fdb61a7",
   "metadata": {},
   "outputs": [],
   "source": [
    "data = pd.get_dummies(data, columns=categorical_columns)"
   ]
  },
  {
   "cell_type": "code",
   "execution_count": 149,
   "id": "780e70b7",
   "metadata": {},
   "outputs": [],
   "source": [
    "X = data.drop('treatment', axis=1)\n",
    "y = data['treatment']"
   ]
  },
  {
   "cell_type": "code",
   "execution_count": 150,
   "id": "788bac15",
   "metadata": {},
   "outputs": [],
   "source": [
    "# Split the dataset into training and testing sets\n",
    "X_train, X_test, y_train, y_test = train_test_split(X, y, test_size=0.3, random_state=42)\n"
   ]
  },
  {
   "cell_type": "code",
   "execution_count": 151,
   "id": "9b8e7d19",
   "metadata": {},
   "outputs": [],
   "source": [
    "# Define classifiers\n",
    "classifiers = {\n",
    "    'Gradient Boosting': GradientBoostingClassifier(random_state=42),\n",
    "    'Random Forest': RandomForestClassifier(random_state=42),\n",
    "    'KNN': KNeighborsClassifier(n_neighbors=5),\n",
    "    'Naive Bayes': GaussianNB(),\n",
    "    'Logistic Regression': LogisticRegression(random_state=42),\n",
    "    'LDA': LDA(),\n",
    "    'QDA': QDA(),\n",
    "    'AdaBoost': AdaBoostClassifier(random_state=42),\n",
    "    'Decision Tree': DecisionTreeClassifier(random_state=42),\n",
    "    'SVM': SVC(kernel='linear', C=1.0, random_state=42)\n",
    "}"
   ]
  },
  {
   "cell_type": "code",
   "execution_count": 152,
   "id": "a0d19f08",
   "metadata": {},
   "outputs": [
    {
     "name": "stdout",
     "output_type": "stream",
     "text": [
      "Gradient Boosting Metrics:\n",
      "  Accuracy: 0.8227513227513228\n",
      "  Recall: 0.8984771573604061\n",
      "  Precision: 0.7901785714285714\n",
      "  F1 Score: 0.8408551068883611\n",
      "\n",
      "Random Forest Metrics:\n",
      "  Accuracy: 0.8015873015873016\n",
      "  Recall: 0.8527918781725888\n",
      "  Precision: 0.7850467289719626\n",
      "  F1 Score: 0.8175182481751824\n",
      "\n",
      "KNN Metrics:\n",
      "  Accuracy: 0.6481481481481481\n",
      "  Recall: 0.5736040609137056\n",
      "  Precision: 0.6975308641975309\n",
      "  F1 Score: 0.6295264623955432\n",
      "\n",
      "Naive Bayes Metrics:\n",
      "  Accuracy: 0.47883597883597884\n",
      "  Recall: 0.0\n",
      "  Precision: 0.0\n",
      "  F1 Score: 0.0\n",
      "\n",
      "Logistic Regression Metrics:\n",
      "  Accuracy: 0.8174603174603174\n",
      "  Recall: 0.868020304568528\n",
      "  Precision: 0.7990654205607477\n",
      "  F1 Score: 0.832116788321168\n",
      "\n",
      "LDA Metrics:\n",
      "  Accuracy: 0.8227513227513228\n",
      "  Recall: 0.9035532994923858\n",
      "  Precision: 0.7876106194690266\n",
      "  F1 Score: 0.8416075650118203\n",
      "\n",
      "QDA Metrics:\n",
      "  Accuracy: 0.46825396825396826\n",
      "  Recall: 0.09137055837563451\n",
      "  Precision: 0.45\n",
      "  F1 Score: 0.15189873417721517\n",
      "\n",
      "AdaBoost Metrics:\n",
      "  Accuracy: 0.8095238095238095\n",
      "  Recall: 0.8730964467005076\n",
      "  Precision: 0.7853881278538812\n",
      "  F1 Score: 0.8269230769230769\n",
      "\n",
      "Decision Tree Metrics:\n",
      "  Accuracy: 0.7724867724867724\n",
      "  Recall: 0.7817258883248731\n",
      "  Precision: 0.7817258883248731\n",
      "  F1 Score: 0.7817258883248731\n",
      "\n",
      "SVM Metrics:\n",
      "  Accuracy: 0.828042328042328\n",
      "  Recall: 0.9187817258883249\n",
      "  Precision: 0.7869565217391304\n",
      "  F1 Score: 0.8477751756440282\n",
      "\n"
     ]
    }
   ],
   "source": [
    "# Loop over classifiers\n",
    "for clf_name, clf in classifiers.items():\n",
    "    # Train the classifier\n",
    "    clf.fit(X_train, y_train)\n",
    "\n",
    "    # Make predictions on the test set\n",
    "    y_pred = clf.predict(X_test)\n",
    "\n",
    "    # Evaluate the Gaussian Naive Bayes classifier\n",
    "    accuracy = accuracy_score(y_test, y_pred)\n",
    "    recall = recall_score(y_test, y_pred, pos_label='Yes')\n",
    "    precision = precision_score(y_test, y_pred, pos_label='Yes', labels=['No', 'Yes'])\n",
    "    f1 = f1_score(y_test, y_pred, pos_label='Yes', labels=['No', 'Yes'])\n",
    "\n",
    "    # Print results\n",
    "    print(f\"{clf_name} Metrics:\")\n",
    "    print(f\"  Accuracy: {accuracy}\")\n",
    "    print(f\"  Recall: {recall}\")\n",
    "    print(f\"  Precision: {precision}\")\n",
    "    print(f\"  F1 Score: {f1}\")\n",
    "    print()"
   ]
  },
  {
   "cell_type": "markdown",
   "id": "75ff9215",
   "metadata": {},
   "source": [
    "# separate showcase of accuracies"
   ]
  },
  {
   "cell_type": "code",
   "execution_count": 153,
   "id": "6994aefb",
   "metadata": {},
   "outputs": [],
   "source": [
    "import pandas as pd\n",
    "import numpy as np"
   ]
  },
  {
   "cell_type": "code",
   "execution_count": 154,
   "id": "edbdc2d8",
   "metadata": {},
   "outputs": [],
   "source": [
    "data = pd.read_csv(\"C://Users//VENKAT//Downloads//survey.csv\")"
   ]
  },
  {
   "cell_type": "code",
   "execution_count": 155,
   "id": "062fa526",
   "metadata": {},
   "outputs": [],
   "source": [
    "# Assuming 'treatment' is the target variable\n",
    "X = data.drop('treatment', axis=1)\n",
    "y = data['treatment']"
   ]
  },
  {
   "cell_type": "code",
   "execution_count": 156,
   "id": "a1d72975",
   "metadata": {},
   "outputs": [],
   "source": [
    "data = data.drop(columns=['Timestamp', 'comments'])"
   ]
  },
  {
   "cell_type": "code",
   "execution_count": 157,
   "id": "e1bc2382",
   "metadata": {},
   "outputs": [],
   "source": [
    "categorical_columns = ['Gender', 'Country', 'state', 'self_employed', 'family_history', 'work_interfere', 'no_employees',\n",
    "                        'remote_work', 'tech_company', 'benefits', 'care_options', 'wellness_program', 'seek_help',\n",
    "                        'anonymity', 'leave', 'mental_health_consequence', 'phys_health_consequence', 'coworkers',\n",
    "                        'supervisor', 'mental_health_interview', 'phys_health_interview', 'mental_vs_physical', 'obs_consequence']"
   ]
  },
  {
   "cell_type": "code",
   "execution_count": 158,
   "id": "a695bb63",
   "metadata": {},
   "outputs": [],
   "source": [
    "data = pd.get_dummies(data, columns=categorical_columns)"
   ]
  },
  {
   "cell_type": "code",
   "execution_count": 159,
   "id": "e48712ea",
   "metadata": {},
   "outputs": [],
   "source": [
    "X = data.drop('treatment', axis=1)\n",
    "y = data['treatment']"
   ]
  },
  {
   "cell_type": "code",
   "execution_count": 160,
   "id": "71272d81",
   "metadata": {},
   "outputs": [],
   "source": [
    "# Split the dataset into training and testing sets\n",
    "X_train, X_test, y_train, y_test = train_test_split(X, y, test_size=0.3, random_state=42)\n"
   ]
  },
  {
   "cell_type": "code",
   "execution_count": 161,
   "id": "553b0503",
   "metadata": {},
   "outputs": [],
   "source": [
    "from sklearn.ensemble import RandomForestClassifier"
   ]
  },
  {
   "cell_type": "code",
   "execution_count": 162,
   "id": "353b1b4d",
   "metadata": {},
   "outputs": [],
   "source": [
    "model= RandomForestClassifier(random_state=42),"
   ]
  },
  {
   "cell_type": "code",
   "execution_count": 163,
   "id": "93112835",
   "metadata": {},
   "outputs": [
    {
     "name": "stdout",
     "output_type": "stream",
     "text": [
      "1.0\n"
     ]
    }
   ],
   "source": [
    "# Random Forest classifier\n",
    "rf_classifier = RandomForestClassifier(n_estimators=100, random_state=42)\n",
    "rf_classifier.fit(X_train, y_train)\n",
    "print(rf_classifier.score(X_train, y_train))\n",
    "\n"
   ]
  },
  {
   "cell_type": "code",
   "execution_count": 164,
   "id": "fdb96562",
   "metadata": {},
   "outputs": [
    {
     "name": "stdout",
     "output_type": "stream",
     "text": [
      "Testing Accuracy: 0.8015873015873016\n"
     ]
    }
   ],
   "source": [
    "testing_accuracy = rf_classifier.score(X_test, y_test)\n",
    "print(\"Testing Accuracy:\", testing_accuracy)"
   ]
  },
  {
   "cell_type": "code",
   "execution_count": 188,
   "id": "e9a7f06b",
   "metadata": {},
   "outputs": [],
   "source": [
    "import numpy as np\n",
    "from sklearn.preprocessing import StandardScaler  # Import the scaler"
   ]
  },
  {
   "cell_type": "code",
   "execution_count": 190,
   "id": "97d5cf7c",
   "metadata": {},
   "outputs": [],
   "source": [
    "new_employee_data = pd.DataFrame([[28,  # Age\n",
    "                                   'Female',  # Gender\n",
    "                                   'United States',  # Country\n",
    "                                   'California',  # State\n",
    "                                   'No',  # Self-employed\n",
    "                                   'No',  # Family history\n",
    "                                   'Sometimes',  # Work interference\n",
    "                                   '100-500',  # No. of employees\n",
    "                                   'Yes',  # Remote work\n",
    "                                   'Yes',  # Tech company\n",
    "                                   'Yes',  # Mental health benefits\n",
    "                                   'Yes',  # Care options\n",
    "                                   'Yes',  # Wellness program\n",
    "                                   'Yes',  # Seek help\n",
    "                                   'Yes',  # Anonymity\n",
    "                                   'Somewhat easy',  # Leave\n",
    "                                   'No',  # Mental health consequence\n",
    "                                   'No',  # Physical health consequence\n",
    "                                   'Yes',  # Coworkers\n",
    "                                   'Yes',  # Supervisor\n",
    "                                   'Maybe',  # Mental health interview\n",
    "                                   'No',  # Physical health interview\n",
    "                                   'Yes',  # Mental vs. physical\n",
    "                                   'No',  # Observed consequences\n",
    "                                   'Additional comments go here',  # Comments\n",
    "                                  ]],\n",
    "                                  columns=['Age', 'Gender', 'Country', 'State', 'Self_Employed', 'Family_History',\n",
    "                                           'Work_Interfere', 'No_of_Employees', 'Remote_Work', 'Tech_Company',\n",
    "                                           'Mental_Health_Benefits', 'Care_Options', 'Wellness_Program', 'Seek_Help',\n",
    "                                           'Anonymity', 'Leave', 'Mental_Health_Consequence',\n",
    "                                           'Physical_Health_Consequence', 'Coworkers', 'Supervisor',\n",
    "                                           'Mental_Health_Interview', 'Physical_Health_Interview', 'Mental_vs_Physical',\n",
    "                                           'Obs_Consequence', 'Comments'])\n"
   ]
  },
  {
   "cell_type": "code",
   "execution_count": 207,
   "id": "73ba8bf3",
   "metadata": {},
   "outputs": [],
   "source": [
    "new_employee_data_encoded = pd.get_dummies(new_employee_data, columns=['Gender', 'Country', 'State'], drop_first=True)"
   ]
  },
  {
   "cell_type": "code",
   "execution_count": null,
   "id": "7d73bcb4",
   "metadata": {},
   "outputs": [],
   "source": []
  },
  {
   "cell_type": "code",
   "execution_count": 209,
   "id": "4c11e655",
   "metadata": {},
   "outputs": [],
   "source": [
    "missing_columns = set(X_train.columns) - set(new_employee_data_encoded.columns)\n"
   ]
  },
  {
   "cell_type": "code",
   "execution_count": 210,
   "id": "169d76ae",
   "metadata": {},
   "outputs": [],
   "source": [
    "# Add missing columns to new_employee_data_encoded and set their values to 0\n",
    "for col in missing_columns:\n",
    "    new_employee_data_encoded[col] = 0\n"
   ]
  },
  {
   "cell_type": "code",
   "execution_count": 211,
   "id": "f578ee2f",
   "metadata": {},
   "outputs": [],
   "source": [
    "# Reorder columns to match the order in the training data\n",
    "new_employee_data_encoded = new_employee_data_encoded[X_train.columns]\n"
   ]
  },
  {
   "cell_type": "code",
   "execution_count": 212,
   "id": "730834aa",
   "metadata": {},
   "outputs": [],
   "source": [
    "# Fill NaN values with zeros\n",
    "new_employee_data_encoded = new_employee_data_encoded.fillna(0)\n"
   ]
  },
  {
   "cell_type": "code",
   "execution_count": 213,
   "id": "5795c801",
   "metadata": {},
   "outputs": [],
   "source": [
    "# Make predictions\n",
    "prediction = gb_model.predict(new_employee_data_encoded)\n"
   ]
  },
  {
   "cell_type": "code",
   "execution_count": 218,
   "id": "4c1f1ab4",
   "metadata": {},
   "outputs": [],
   "source": [
    "# Map numerical prediction back to \"yes\" or \"no\"\n",
    "prediction_label = \"YES! MEET YOUR MEDICAL EXPERT.\" if prediction[0] == 1 else \"NO NOT REQUIRED YOUR HEALTH IS TOTALLY FINE\""
   ]
  },
  {
   "cell_type": "code",
   "execution_count": 219,
   "id": "76bcc5e6",
   "metadata": {},
   "outputs": [
    {
     "name": "stdout",
     "output_type": "stream",
     "text": [
      "The employee is predicted to need treatment: NO NOT REQUIRED YOUR HEALTH IS TOTALLY FINE\n"
     ]
    }
   ],
   "source": [
    "# Print the prediction\n",
    "print(f\"The employee is predicted to need treatment: {prediction_label}\")"
   ]
  },
  {
   "cell_type": "code",
   "execution_count": null,
   "id": "adb8f043",
   "metadata": {},
   "outputs": [],
   "source": []
  }
 ],
 "metadata": {
  "kernelspec": {
   "display_name": "Python 3 (ipykernel)",
   "language": "python",
   "name": "python3"
  },
  "language_info": {
   "codemirror_mode": {
    "name": "ipython",
    "version": 3
   },
   "file_extension": ".py",
   "mimetype": "text/x-python",
   "name": "python",
   "nbconvert_exporter": "python",
   "pygments_lexer": "ipython3",
   "version": "3.9.7"
  }
 },
 "nbformat": 4,
 "nbformat_minor": 5
}
